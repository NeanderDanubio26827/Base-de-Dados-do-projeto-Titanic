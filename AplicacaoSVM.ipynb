{
  "nbformat": 4,
  "nbformat_minor": 0,
  "metadata": {
    "colab": {
      "name": "AplicacaoSVM.ipynb",
      "provenance": [],
      "collapsed_sections": [],
      "authorship_tag": "ABX9TyOeXIRh+F/IIGPLFubL5IiK",
      "include_colab_link": true
    },
    "kernelspec": {
      "name": "python3",
      "display_name": "Python 3"
    },
    "language_info": {
      "name": "python"
    }
  },
  "cells": [
    {
      "cell_type": "markdown",
      "metadata": {
        "id": "view-in-github",
        "colab_type": "text"
      },
      "source": [
        "<a href=\"https://colab.research.google.com/github/NeanderDanubio26827/BaseDeDadosTitanic/blob/main/AplicacaoSVM.ipynb\" target=\"_parent\"><img src=\"https://colab.research.google.com/assets/colab-badge.svg\" alt=\"Open In Colab\"/></a>"
      ]
    },
    {
      "cell_type": "markdown",
      "source": [
        "Todas as importações necessárias"
      ],
      "metadata": {
        "id": "iov-yYgMkTEd"
      }
    },
    {
      "cell_type": "code",
      "execution_count": 34,
      "metadata": {
        "id": "Ura-KL5wmcUC"
      },
      "outputs": [],
      "source": [
        "from optparse import Values\n",
        "import pandas as pd\n",
        "import numpy as np\n",
        "import matplotlib.pyplot as plt \n",
        "import seaborn as sns\n",
        "from sklearn.preprocessing import LabelEncoder, StandardScaler\n",
        "from sklearn.model_selection import train_test_split\n",
        "from sklearn.svm import SVC\n",
        "from sklearn.metrics import confusion_matrix, accuracy_score\n",
        "from sklearn.metrics import accuracy_score, recall_score, precision_score, f1_score\n",
        "from sklearn.preprocessing import MinMaxScaler, MultiLabelBinarizer\n",
        "import collections"
      ]
    },
    {
      "cell_type": "markdown",
      "source": [
        "A função faixa_etaria é uma forma de tratar melhor os dados. "
      ],
      "metadata": {
        "id": "S6lLI4mRkY_h"
      }
    },
    {
      "cell_type": "code",
      "source": [
        "def faixa_etaria(idade):\n",
        "    if idade == np.nan:\n",
        "        return 'Não informada'\n",
        "    elif '0' <= idade <= '10':\n",
        "        return 'Criança'\n",
        "    elif '11' <= idade <= '18':\n",
        "        return 'Jovem'\n",
        "    elif '19' <= idade <= '50':\n",
        "        return 'Adulto'\n",
        "    else:\n",
        "        return 'Idoso'"
      ],
      "metadata": {
        "id": "aCkQjUELSS7B"
      },
      "execution_count": 35,
      "outputs": []
    },
    {
      "cell_type": "markdown",
      "source": [
        "Os comando abaixo são para receber a base de dados que se encontra em github de um dos membros da equipe. "
      ],
      "metadata": {
        "id": "W3dnYG-Okjtj"
      }
    },
    {
      "cell_type": "code",
      "source": [
        "df = pd.read_csv('https://raw.githubusercontent.com/NeanderDanubio26827/projetoKNN/main/CVLI_12_2021Tratado.csv' , sep=';')\n",
        "\n",
        "df.head()"
      ],
      "metadata": {
        "colab": {
          "base_uri": "https://localhost:8080/",
          "height": 206
        },
        "id": "-SHkEsuLmg1p",
        "outputId": "354b3582-bb11-4598-eb69-e2a3149bb319"
      },
      "execution_count": 36,
      "outputs": [
        {
          "output_type": "execute_result",
          "data": {
            "text/plain": [
              "   Município     AIS                             Natureza       Data   Hora  \\\n",
              "0    Canindé  AIS 15                     HOMICIDIO DOLOSO  01/jan/21  00:30   \n",
              "1    Mombaça  AIS 22      LESAO CORPORAL SEGUIDA DE MORTE  01/jan/21  00:30   \n",
              "2     Iguatu  AIS 21                     HOMICIDIO DOLOSO  01/jan/21  03:00   \n",
              "3  Fortaleza  AIS 09  ROUBO SEGUIDO DE MORTE (LATROCINIO)  01/jan/21  04:30   \n",
              "4     Sobral  AIS 14                     HOMICIDIO DOLOSO  01/jan/21  05:00   \n",
              "\n",
              "  Dia da Semana  Tipo de Arma     Gênero Idade da Vítima  \\\n",
              "0         Sexta  Arma de fogo  Masculino   Não Informada   \n",
              "1         Sexta  Outros meios   Feminino              15   \n",
              "2         Sexta   Arma branca  Masculino              16   \n",
              "3         Sexta  Arma de fogo  Masculino              20   \n",
              "4         Sexta  Arma de fogo  Masculino              26   \n",
              "\n",
              "          Escolaridade da Vítima Raça da Vítima  \n",
              "0  Ensino Fundamental Incompleto  Não Informada  \n",
              "1  Ensino Fundamental Incompleto          Parda  \n",
              "2                   Alfabetizado  Não Informada  \n",
              "3    Ensino Fundamental Completo  Não Informada  \n",
              "4                   Alfabetizado  Não Informada  "
            ],
            "text/html": [
              "\n",
              "  <div id=\"df-4427bdc9-0745-4827-aef6-14f906bf0db4\">\n",
              "    <div class=\"colab-df-container\">\n",
              "      <div>\n",
              "<style scoped>\n",
              "    .dataframe tbody tr th:only-of-type {\n",
              "        vertical-align: middle;\n",
              "    }\n",
              "\n",
              "    .dataframe tbody tr th {\n",
              "        vertical-align: top;\n",
              "    }\n",
              "\n",
              "    .dataframe thead th {\n",
              "        text-align: right;\n",
              "    }\n",
              "</style>\n",
              "<table border=\"1\" class=\"dataframe\">\n",
              "  <thead>\n",
              "    <tr style=\"text-align: right;\">\n",
              "      <th></th>\n",
              "      <th>Município</th>\n",
              "      <th>AIS</th>\n",
              "      <th>Natureza</th>\n",
              "      <th>Data</th>\n",
              "      <th>Hora</th>\n",
              "      <th>Dia da Semana</th>\n",
              "      <th>Tipo de Arma</th>\n",
              "      <th>Gênero</th>\n",
              "      <th>Idade da Vítima</th>\n",
              "      <th>Escolaridade da Vítima</th>\n",
              "      <th>Raça da Vítima</th>\n",
              "    </tr>\n",
              "  </thead>\n",
              "  <tbody>\n",
              "    <tr>\n",
              "      <th>0</th>\n",
              "      <td>Canindé</td>\n",
              "      <td>AIS 15</td>\n",
              "      <td>HOMICIDIO DOLOSO</td>\n",
              "      <td>01/jan/21</td>\n",
              "      <td>00:30</td>\n",
              "      <td>Sexta</td>\n",
              "      <td>Arma de fogo</td>\n",
              "      <td>Masculino</td>\n",
              "      <td>Não Informada</td>\n",
              "      <td>Ensino Fundamental Incompleto</td>\n",
              "      <td>Não Informada</td>\n",
              "    </tr>\n",
              "    <tr>\n",
              "      <th>1</th>\n",
              "      <td>Mombaça</td>\n",
              "      <td>AIS 22</td>\n",
              "      <td>LESAO CORPORAL SEGUIDA DE MORTE</td>\n",
              "      <td>01/jan/21</td>\n",
              "      <td>00:30</td>\n",
              "      <td>Sexta</td>\n",
              "      <td>Outros meios</td>\n",
              "      <td>Feminino</td>\n",
              "      <td>15</td>\n",
              "      <td>Ensino Fundamental Incompleto</td>\n",
              "      <td>Parda</td>\n",
              "    </tr>\n",
              "    <tr>\n",
              "      <th>2</th>\n",
              "      <td>Iguatu</td>\n",
              "      <td>AIS 21</td>\n",
              "      <td>HOMICIDIO DOLOSO</td>\n",
              "      <td>01/jan/21</td>\n",
              "      <td>03:00</td>\n",
              "      <td>Sexta</td>\n",
              "      <td>Arma branca</td>\n",
              "      <td>Masculino</td>\n",
              "      <td>16</td>\n",
              "      <td>Alfabetizado</td>\n",
              "      <td>Não Informada</td>\n",
              "    </tr>\n",
              "    <tr>\n",
              "      <th>3</th>\n",
              "      <td>Fortaleza</td>\n",
              "      <td>AIS 09</td>\n",
              "      <td>ROUBO SEGUIDO DE MORTE (LATROCINIO)</td>\n",
              "      <td>01/jan/21</td>\n",
              "      <td>04:30</td>\n",
              "      <td>Sexta</td>\n",
              "      <td>Arma de fogo</td>\n",
              "      <td>Masculino</td>\n",
              "      <td>20</td>\n",
              "      <td>Ensino Fundamental Completo</td>\n",
              "      <td>Não Informada</td>\n",
              "    </tr>\n",
              "    <tr>\n",
              "      <th>4</th>\n",
              "      <td>Sobral</td>\n",
              "      <td>AIS 14</td>\n",
              "      <td>HOMICIDIO DOLOSO</td>\n",
              "      <td>01/jan/21</td>\n",
              "      <td>05:00</td>\n",
              "      <td>Sexta</td>\n",
              "      <td>Arma de fogo</td>\n",
              "      <td>Masculino</td>\n",
              "      <td>26</td>\n",
              "      <td>Alfabetizado</td>\n",
              "      <td>Não Informada</td>\n",
              "    </tr>\n",
              "  </tbody>\n",
              "</table>\n",
              "</div>\n",
              "      <button class=\"colab-df-convert\" onclick=\"convertToInteractive('df-4427bdc9-0745-4827-aef6-14f906bf0db4')\"\n",
              "              title=\"Convert this dataframe to an interactive table.\"\n",
              "              style=\"display:none;\">\n",
              "        \n",
              "  <svg xmlns=\"http://www.w3.org/2000/svg\" height=\"24px\"viewBox=\"0 0 24 24\"\n",
              "       width=\"24px\">\n",
              "    <path d=\"M0 0h24v24H0V0z\" fill=\"none\"/>\n",
              "    <path d=\"M18.56 5.44l.94 2.06.94-2.06 2.06-.94-2.06-.94-.94-2.06-.94 2.06-2.06.94zm-11 1L8.5 8.5l.94-2.06 2.06-.94-2.06-.94L8.5 2.5l-.94 2.06-2.06.94zm10 10l.94 2.06.94-2.06 2.06-.94-2.06-.94-.94-2.06-.94 2.06-2.06.94z\"/><path d=\"M17.41 7.96l-1.37-1.37c-.4-.4-.92-.59-1.43-.59-.52 0-1.04.2-1.43.59L10.3 9.45l-7.72 7.72c-.78.78-.78 2.05 0 2.83L4 21.41c.39.39.9.59 1.41.59.51 0 1.02-.2 1.41-.59l7.78-7.78 2.81-2.81c.8-.78.8-2.07 0-2.86zM5.41 20L4 18.59l7.72-7.72 1.47 1.35L5.41 20z\"/>\n",
              "  </svg>\n",
              "      </button>\n",
              "      \n",
              "  <style>\n",
              "    .colab-df-container {\n",
              "      display:flex;\n",
              "      flex-wrap:wrap;\n",
              "      gap: 12px;\n",
              "    }\n",
              "\n",
              "    .colab-df-convert {\n",
              "      background-color: #E8F0FE;\n",
              "      border: none;\n",
              "      border-radius: 50%;\n",
              "      cursor: pointer;\n",
              "      display: none;\n",
              "      fill: #1967D2;\n",
              "      height: 32px;\n",
              "      padding: 0 0 0 0;\n",
              "      width: 32px;\n",
              "    }\n",
              "\n",
              "    .colab-df-convert:hover {\n",
              "      background-color: #E2EBFA;\n",
              "      box-shadow: 0px 1px 2px rgba(60, 64, 67, 0.3), 0px 1px 3px 1px rgba(60, 64, 67, 0.15);\n",
              "      fill: #174EA6;\n",
              "    }\n",
              "\n",
              "    [theme=dark] .colab-df-convert {\n",
              "      background-color: #3B4455;\n",
              "      fill: #D2E3FC;\n",
              "    }\n",
              "\n",
              "    [theme=dark] .colab-df-convert:hover {\n",
              "      background-color: #434B5C;\n",
              "      box-shadow: 0px 1px 3px 1px rgba(0, 0, 0, 0.15);\n",
              "      filter: drop-shadow(0px 1px 2px rgba(0, 0, 0, 0.3));\n",
              "      fill: #FFFFFF;\n",
              "    }\n",
              "  </style>\n",
              "\n",
              "      <script>\n",
              "        const buttonEl =\n",
              "          document.querySelector('#df-4427bdc9-0745-4827-aef6-14f906bf0db4 button.colab-df-convert');\n",
              "        buttonEl.style.display =\n",
              "          google.colab.kernel.accessAllowed ? 'block' : 'none';\n",
              "\n",
              "        async function convertToInteractive(key) {\n",
              "          const element = document.querySelector('#df-4427bdc9-0745-4827-aef6-14f906bf0db4');\n",
              "          const dataTable =\n",
              "            await google.colab.kernel.invokeFunction('convertToInteractive',\n",
              "                                                     [key], {});\n",
              "          if (!dataTable) return;\n",
              "\n",
              "          const docLinkHtml = 'Like what you see? Visit the ' +\n",
              "            '<a target=\"_blank\" href=https://colab.research.google.com/notebooks/data_table.ipynb>data table notebook</a>'\n",
              "            + ' to learn more about interactive tables.';\n",
              "          element.innerHTML = '';\n",
              "          dataTable['output_type'] = 'display_data';\n",
              "          await google.colab.output.renderOutput(dataTable, element);\n",
              "          const docLink = document.createElement('div');\n",
              "          docLink.innerHTML = docLinkHtml;\n",
              "          element.appendChild(docLink);\n",
              "        }\n",
              "      </script>\n",
              "    </div>\n",
              "  </div>\n",
              "  "
            ]
          },
          "metadata": {},
          "execution_count": 36
        }
      ]
    },
    {
      "cell_type": "code",
      "source": [
        "mlb = MultiLabelBinarizer()"
      ],
      "metadata": {
        "id": "iU-DY5GEkQTQ"
      },
      "execution_count": 37,
      "outputs": []
    },
    {
      "cell_type": "code",
      "source": [
        "##Esse comando é para saber quantos instâncias da base de dados são nulas\n",
        "df.isnull().sum()"
      ],
      "metadata": {
        "id": "9oYZ-S7ltkji",
        "colab": {
          "base_uri": "https://localhost:8080/"
        },
        "outputId": "55b6a66b-7601-4fbe-c42c-f72266ba7c81"
      },
      "execution_count": 38,
      "outputs": [
        {
          "output_type": "execute_result",
          "data": {
            "text/plain": [
              "Município                 0\n",
              "AIS                       0\n",
              "Natureza                  0\n",
              "Data                      0\n",
              "Hora                      0\n",
              "Dia da Semana             0\n",
              "Tipo de Arma              0\n",
              "Gênero                    0\n",
              "Idade da Vítima           0\n",
              "Escolaridade da Vítima    0\n",
              "Raça da Vítima            0\n",
              "dtype: int64"
            ]
          },
          "metadata": {},
          "execution_count": 38
        }
      ]
    },
    {
      "cell_type": "code",
      "source": [
        "##Esse comando é para saber quantos instâncias da base de dados são do tipo NAN\n",
        "df.isna().sum()"
      ],
      "metadata": {
        "id": "vwoQ9DPuKwrN",
        "colab": {
          "base_uri": "https://localhost:8080/"
        },
        "outputId": "e4becc8f-9e5e-47a9-e28a-5f7b8483f8d8"
      },
      "execution_count": 39,
      "outputs": [
        {
          "output_type": "execute_result",
          "data": {
            "text/plain": [
              "Município                 0\n",
              "AIS                       0\n",
              "Natureza                  0\n",
              "Data                      0\n",
              "Hora                      0\n",
              "Dia da Semana             0\n",
              "Tipo de Arma              0\n",
              "Gênero                    0\n",
              "Idade da Vítima           0\n",
              "Escolaridade da Vítima    0\n",
              "Raça da Vítima            0\n",
              "dtype: int64"
            ]
          },
          "metadata": {},
          "execution_count": 39
        }
      ]
    },
    {
      "cell_type": "code",
      "source": [
        "## chamando a função faixa_etaria\n",
        "## excluindo o campo 'Idade da Vítima\n",
        "## exibição da base\n",
        "df['FaixaEtaria']= [faixa_etaria(k) for k in df['Idade da Vítima'].values]\n",
        "df = df.drop('Idade da Vítima', axis=1)\n",
        "print(df)"
      ],
      "metadata": {
        "id": "VF6ov3QWSdVa",
        "colab": {
          "base_uri": "https://localhost:8080/"
        },
        "outputId": "f5dab60d-1230-44e0-d284-69ca5b316e57"
      },
      "execution_count": 40,
      "outputs": [
        {
          "output_type": "stream",
          "name": "stdout",
          "text": [
            "      Município     AIS                             Natureza       Data  \\\n",
            "0       Canindé  AIS 15                     HOMICIDIO DOLOSO  01/jan/21   \n",
            "1       Mombaça  AIS 22      LESAO CORPORAL SEGUIDA DE MORTE  01/jan/21   \n",
            "2        Iguatu  AIS 21                     HOMICIDIO DOLOSO  01/jan/21   \n",
            "3     Fortaleza  AIS 09  ROUBO SEGUIDO DE MORTE (LATROCINIO)  01/jan/21   \n",
            "4        Sobral  AIS 14                     HOMICIDIO DOLOSO  01/jan/21   \n",
            "...         ...     ...                                  ...        ...   \n",
            "3294  Fortaleza  AIS 06                     HOMICIDIO DOLOSO  31/dez/21   \n",
            "3295  Fortaleza  AIS 03                     HOMICIDIO DOLOSO  31/dez/21   \n",
            "3296  Fortaleza  AIS 02                     HOMICIDIO DOLOSO  31/dez/21   \n",
            "3297  Itaitinga  AIS 25                     HOMICIDIO DOLOSO  31/dez/21   \n",
            "3298      Milhã  AIS 20                     HOMICIDIO DOLOSO  31/dez/21   \n",
            "\n",
            "       Hora Dia da Semana  Tipo de Arma     Gênero  \\\n",
            "0     00:30         Sexta  Arma de fogo  Masculino   \n",
            "1     00:30         Sexta  Outros meios   Feminino   \n",
            "2     03:00         Sexta   Arma branca  Masculino   \n",
            "3     04:30         Sexta  Arma de fogo  Masculino   \n",
            "4     05:00         Sexta  Arma de fogo  Masculino   \n",
            "...     ...           ...           ...        ...   \n",
            "3294  12:23         Sexta  Arma de fogo  Masculino   \n",
            "3295  12:30         Sexta  Arma de fogo  Masculino   \n",
            "3296  15:30         Sexta  Arma de fogo  Masculino   \n",
            "3297  16:40         Sexta  Arma de fogo  Masculino   \n",
            "3298  19:30         Sexta  Arma de fogo  Masculino   \n",
            "\n",
            "             Escolaridade da Vítima Raça da Vítima FaixaEtaria  \n",
            "0     Ensino Fundamental Incompleto  Não Informada       Idoso  \n",
            "1     Ensino Fundamental Incompleto          Parda       Jovem  \n",
            "2                      Alfabetizado  Não Informada       Jovem  \n",
            "3       Ensino Fundamental Completo  Não Informada      Adulto  \n",
            "4                      Alfabetizado  Não Informada      Adulto  \n",
            "...                             ...            ...         ...  \n",
            "3294                  Não Informada  Não Informada      Adulto  \n",
            "3295    Ensino Fundamental Completo  Não Informada      Adulto  \n",
            "3296                  Não Informada  Não Informada       Idoso  \n",
            "3297          Ensino Médio Completo  Não Informada      Adulto  \n",
            "3298    Ensino Fundamental Completo          Parda      Adulto  \n",
            "\n",
            "[3299 rows x 11 columns]\n"
          ]
        }
      ]
    },
    {
      "cell_type": "code",
      "source": [
        "## Mais tratamento dos dados\n",
        "## facilia no restante do código\n",
        "## eliminação de atributos desnedesnecessários\n",
        "## criação da lista  'colunas' que será\n",
        "## usada posteriormente\n",
        "df['TipoCrime'] = df['Natureza']\n",
        "df['Gênero'] = df['Gênero']\n",
        "df['Raça'] = df['Raça da Vítima']\n",
        "df['Escolaridade'] = df['Escolaridade da Vítima']\n",
        "df = df.drop('Raça da Vítima', axis=1)\n",
        "df = df.drop('Natureza', axis=1)\n",
        "df = df.drop('Escolaridade da Vítima', axis=1)\n",
        "\n",
        "\n",
        "\n",
        "df = df[['TipoCrime',  'Gênero', 'FaixaEtaria', 'Escolaridade','Raça']]\n",
        "colunas = [ k for k in df.keys() if k != 'Gênero']\n",
        "print(colunas)\n",
        "df.head()"
      ],
      "metadata": {
        "id": "B1dBQDvbVPuc",
        "colab": {
          "base_uri": "https://localhost:8080/",
          "height": 223
        },
        "outputId": "6f978eb1-6405-40fa-8916-82e0402803d7"
      },
      "execution_count": 41,
      "outputs": [
        {
          "output_type": "stream",
          "name": "stdout",
          "text": [
            "['TipoCrime', 'FaixaEtaria', 'Escolaridade', 'Raça']\n"
          ]
        },
        {
          "output_type": "execute_result",
          "data": {
            "text/plain": [
              "                             TipoCrime     Gênero FaixaEtaria  \\\n",
              "0                     HOMICIDIO DOLOSO  Masculino       Idoso   \n",
              "1      LESAO CORPORAL SEGUIDA DE MORTE   Feminino       Jovem   \n",
              "2                     HOMICIDIO DOLOSO  Masculino       Jovem   \n",
              "3  ROUBO SEGUIDO DE MORTE (LATROCINIO)  Masculino      Adulto   \n",
              "4                     HOMICIDIO DOLOSO  Masculino      Adulto   \n",
              "\n",
              "                    Escolaridade           Raça  \n",
              "0  Ensino Fundamental Incompleto  Não Informada  \n",
              "1  Ensino Fundamental Incompleto          Parda  \n",
              "2                   Alfabetizado  Não Informada  \n",
              "3    Ensino Fundamental Completo  Não Informada  \n",
              "4                   Alfabetizado  Não Informada  "
            ],
            "text/html": [
              "\n",
              "  <div id=\"df-322ec6fd-16e9-43d1-b4d9-119db00e27f0\">\n",
              "    <div class=\"colab-df-container\">\n",
              "      <div>\n",
              "<style scoped>\n",
              "    .dataframe tbody tr th:only-of-type {\n",
              "        vertical-align: middle;\n",
              "    }\n",
              "\n",
              "    .dataframe tbody tr th {\n",
              "        vertical-align: top;\n",
              "    }\n",
              "\n",
              "    .dataframe thead th {\n",
              "        text-align: right;\n",
              "    }\n",
              "</style>\n",
              "<table border=\"1\" class=\"dataframe\">\n",
              "  <thead>\n",
              "    <tr style=\"text-align: right;\">\n",
              "      <th></th>\n",
              "      <th>TipoCrime</th>\n",
              "      <th>Gênero</th>\n",
              "      <th>FaixaEtaria</th>\n",
              "      <th>Escolaridade</th>\n",
              "      <th>Raça</th>\n",
              "    </tr>\n",
              "  </thead>\n",
              "  <tbody>\n",
              "    <tr>\n",
              "      <th>0</th>\n",
              "      <td>HOMICIDIO DOLOSO</td>\n",
              "      <td>Masculino</td>\n",
              "      <td>Idoso</td>\n",
              "      <td>Ensino Fundamental Incompleto</td>\n",
              "      <td>Não Informada</td>\n",
              "    </tr>\n",
              "    <tr>\n",
              "      <th>1</th>\n",
              "      <td>LESAO CORPORAL SEGUIDA DE MORTE</td>\n",
              "      <td>Feminino</td>\n",
              "      <td>Jovem</td>\n",
              "      <td>Ensino Fundamental Incompleto</td>\n",
              "      <td>Parda</td>\n",
              "    </tr>\n",
              "    <tr>\n",
              "      <th>2</th>\n",
              "      <td>HOMICIDIO DOLOSO</td>\n",
              "      <td>Masculino</td>\n",
              "      <td>Jovem</td>\n",
              "      <td>Alfabetizado</td>\n",
              "      <td>Não Informada</td>\n",
              "    </tr>\n",
              "    <tr>\n",
              "      <th>3</th>\n",
              "      <td>ROUBO SEGUIDO DE MORTE (LATROCINIO)</td>\n",
              "      <td>Masculino</td>\n",
              "      <td>Adulto</td>\n",
              "      <td>Ensino Fundamental Completo</td>\n",
              "      <td>Não Informada</td>\n",
              "    </tr>\n",
              "    <tr>\n",
              "      <th>4</th>\n",
              "      <td>HOMICIDIO DOLOSO</td>\n",
              "      <td>Masculino</td>\n",
              "      <td>Adulto</td>\n",
              "      <td>Alfabetizado</td>\n",
              "      <td>Não Informada</td>\n",
              "    </tr>\n",
              "  </tbody>\n",
              "</table>\n",
              "</div>\n",
              "      <button class=\"colab-df-convert\" onclick=\"convertToInteractive('df-322ec6fd-16e9-43d1-b4d9-119db00e27f0')\"\n",
              "              title=\"Convert this dataframe to an interactive table.\"\n",
              "              style=\"display:none;\">\n",
              "        \n",
              "  <svg xmlns=\"http://www.w3.org/2000/svg\" height=\"24px\"viewBox=\"0 0 24 24\"\n",
              "       width=\"24px\">\n",
              "    <path d=\"M0 0h24v24H0V0z\" fill=\"none\"/>\n",
              "    <path d=\"M18.56 5.44l.94 2.06.94-2.06 2.06-.94-2.06-.94-.94-2.06-.94 2.06-2.06.94zm-11 1L8.5 8.5l.94-2.06 2.06-.94-2.06-.94L8.5 2.5l-.94 2.06-2.06.94zm10 10l.94 2.06.94-2.06 2.06-.94-2.06-.94-.94-2.06-.94 2.06-2.06.94z\"/><path d=\"M17.41 7.96l-1.37-1.37c-.4-.4-.92-.59-1.43-.59-.52 0-1.04.2-1.43.59L10.3 9.45l-7.72 7.72c-.78.78-.78 2.05 0 2.83L4 21.41c.39.39.9.59 1.41.59.51 0 1.02-.2 1.41-.59l7.78-7.78 2.81-2.81c.8-.78.8-2.07 0-2.86zM5.41 20L4 18.59l7.72-7.72 1.47 1.35L5.41 20z\"/>\n",
              "  </svg>\n",
              "      </button>\n",
              "      \n",
              "  <style>\n",
              "    .colab-df-container {\n",
              "      display:flex;\n",
              "      flex-wrap:wrap;\n",
              "      gap: 12px;\n",
              "    }\n",
              "\n",
              "    .colab-df-convert {\n",
              "      background-color: #E8F0FE;\n",
              "      border: none;\n",
              "      border-radius: 50%;\n",
              "      cursor: pointer;\n",
              "      display: none;\n",
              "      fill: #1967D2;\n",
              "      height: 32px;\n",
              "      padding: 0 0 0 0;\n",
              "      width: 32px;\n",
              "    }\n",
              "\n",
              "    .colab-df-convert:hover {\n",
              "      background-color: #E2EBFA;\n",
              "      box-shadow: 0px 1px 2px rgba(60, 64, 67, 0.3), 0px 1px 3px 1px rgba(60, 64, 67, 0.15);\n",
              "      fill: #174EA6;\n",
              "    }\n",
              "\n",
              "    [theme=dark] .colab-df-convert {\n",
              "      background-color: #3B4455;\n",
              "      fill: #D2E3FC;\n",
              "    }\n",
              "\n",
              "    [theme=dark] .colab-df-convert:hover {\n",
              "      background-color: #434B5C;\n",
              "      box-shadow: 0px 1px 3px 1px rgba(0, 0, 0, 0.15);\n",
              "      filter: drop-shadow(0px 1px 2px rgba(0, 0, 0, 0.3));\n",
              "      fill: #FFFFFF;\n",
              "    }\n",
              "  </style>\n",
              "\n",
              "      <script>\n",
              "        const buttonEl =\n",
              "          document.querySelector('#df-322ec6fd-16e9-43d1-b4d9-119db00e27f0 button.colab-df-convert');\n",
              "        buttonEl.style.display =\n",
              "          google.colab.kernel.accessAllowed ? 'block' : 'none';\n",
              "\n",
              "        async function convertToInteractive(key) {\n",
              "          const element = document.querySelector('#df-322ec6fd-16e9-43d1-b4d9-119db00e27f0');\n",
              "          const dataTable =\n",
              "            await google.colab.kernel.invokeFunction('convertToInteractive',\n",
              "                                                     [key], {});\n",
              "          if (!dataTable) return;\n",
              "\n",
              "          const docLinkHtml = 'Like what you see? Visit the ' +\n",
              "            '<a target=\"_blank\" href=https://colab.research.google.com/notebooks/data_table.ipynb>data table notebook</a>'\n",
              "            + ' to learn more about interactive tables.';\n",
              "          element.innerHTML = '';\n",
              "          dataTable['output_type'] = 'display_data';\n",
              "          await google.colab.output.renderOutput(dataTable, element);\n",
              "          const docLink = document.createElement('div');\n",
              "          docLink.innerHTML = docLinkHtml;\n",
              "          element.appendChild(docLink);\n",
              "        }\n",
              "      </script>\n",
              "    </div>\n",
              "  </div>\n",
              "  "
            ]
          },
          "metadata": {},
          "execution_count": 41
        }
      ]
    },
    {
      "cell_type": "code",
      "source": [
        "for k in colunas:\n",
        " aux =  df[k].unique()\n",
        " print(aux)"
      ],
      "metadata": {
        "colab": {
          "base_uri": "https://localhost:8080/"
        },
        "id": "Ns4VcliUFq5f",
        "outputId": "c52e7778-89ea-45f4-ccf7-139838e8c801"
      },
      "execution_count": 42,
      "outputs": [
        {
          "output_type": "stream",
          "name": "stdout",
          "text": [
            "['HOMICIDIO DOLOSO' 'LESAO CORPORAL SEGUIDA DE MORTE'\n",
            " 'ROUBO SEGUIDO DE MORTE (LATROCINIO)' 'FEMINICÍDIO']\n",
            "['Idoso' 'Jovem' 'Adulto' 'Criança']\n",
            "['Ensino Fundamental Incompleto' 'Alfabetizado'\n",
            " 'Ensino Fundamental Completo' 'Não Informada' 'Ensino Médio Incompleto'\n",
            " 'Ensino Médio Completo' 'Não Alfabetizado' 'Superior Incompleto'\n",
            " 'Superior Completo']\n",
            "['Não Informada' 'Parda' 'Branca' 'Preta' 'Amarela' 'Indígena']\n"
          ]
        }
      ]
    },
    {
      "cell_type": "code",
      "source": [
        "## comandos para plotagem \n",
        "## dos histogramas que exibem \n",
        "## a frequência absoluta\n",
        "# plt.figure(figsize=(30, 30))\n",
        "# colors = sns.color_palette()\n",
        "# for i in range(0,len(colunas)):\n",
        "     \n",
        "#     plt.subplot(4, 2, i+1)\n",
        "#     _ = sns.histplot(df, x=colunas[i], color=colors[0 % 8])\n",
        "#     plt.xlabel(colunas[i],fontsize=15)"
      ],
      "metadata": {
        "id": "-Q9nE0rTaBmE"
      },
      "execution_count": 43,
      "outputs": []
    },
    {
      "cell_type": "code",
      "source": [
        "lin = len(colunas)\n",
        "col = 1\n",
        "\n",
        "plt.figure(figsize=(14,15))\n",
        "plt.subplot(lin,col,1)\n",
        "sns.countplot(data=df, x='TipoCrime',hue='Gênero');\n",
        "plt.subplot(lin,col,2)\n",
        "sns.countplot(data=df, x='FaixaEtaria',hue='Gênero');\n",
        "plt.subplot(lin,col,3)\n",
        "sns.countplot(data=df, x='Escolaridade',hue='Gênero');\n",
        "plt.subplot(lin,col,4)\n",
        "sns.countplot(data=df, x='Raça',hue='Gênero');\n",
        "plt.tight_layout()"
      ],
      "metadata": {
        "colab": {
          "base_uri": "https://localhost:8080/",
          "height": 1000
        },
        "id": "3-zUI2Z27VoF",
        "outputId": "c4a169c9-26df-4b9c-dcae-67c19b145159"
      },
      "execution_count": 44,
      "outputs": [
        {
          "output_type": "display_data",
          "data": {
            "text/plain": [
              "<Figure size 1008x1080 with 4 Axes>"
            ],
            "image/png": "[encoded data removed]"
          },
          "metadata": {
            "needs_background": "light"
          }
        }
      ]
    },
    {
      "cell_type": "code",
      "source": [
        "plt.figure(figsize=(30, 30))\n",
        "colors = sns.color_palette()\n",
        "for i in range(0,len(colunas)):\n",
        "     \n",
        "    plt.subplot(4, 2, i+1)\n",
        "    _ = plt.hist(df[colunas [i]], color=colors[0 % 8])\n",
        "    plt.xlabel(colunas[i],fontsize=15)"
      ],
      "metadata": {
        "id": "zc71RXAJVO44",
        "colab": {
          "base_uri": "https://localhost:8080/",
          "height": 700
        },
        "outputId": "5f4464d5-f80a-4ca7-848f-56099eb1b8f5"
      },
      "execution_count": 45,
      "outputs": [
        {
          "output_type": "display_data",
          "data": {
            "text/plain": [
              "<Figure size 2160x2160 with 4 Axes>"
            ],
            "image/png": "[encoded data removed]"
          },
          "metadata": {
            "needs_background": "light"
          }
        }
      ]
    },
    {
      "cell_type": "code",
      "source": [
        "\n",
        "     "
      ],
      "metadata": {
        "id": "RhfIr8V403D8"
      },
      "execution_count": 45,
      "outputs": []
    },
    {
      "cell_type": "code",
      "source": [
        "## Esses comandos são usado para transformar os atributos \n",
        "## De categóricos para numéricos\n",
        "\n",
        "enconder = LabelEncoder()\n",
        "sc = StandardScaler()\n",
        "\n",
        "# df['TipoCrime'] = enconder.fit_transform(df['TipoCrime'])\n",
        "# df['Gênero'] = enconder.fit_transform(df['Gênero'])\n",
        "# df['FaixaEtaria'] = enconder.fit_transform(df['FaixaEtaria'])\n",
        "# df['Raça'] = enconder.fit_transform(df['Raça'])\n",
        "# df['Escolaridade'] = enconder.fit_transform(df['Escolaridade'])"
      ],
      "metadata": {
        "id": "zwUPQTvPmkmc"
      },
      "execution_count": 46,
      "outputs": []
    },
    {
      "cell_type": "code",
      "source": [
        "acc = []\n",
        "prec = []\n",
        "rec = []\n",
        "f1 = []\n",
        "modelos = []"
      ],
      "metadata": {
        "id": "NcxmDcvRpC3R"
      },
      "execution_count": 47,
      "outputs": []
    },
    {
      "cell_type": "code",
      "source": [
        "df['TipoCrime'] = mlb.fit_transform(df['TipoCrime'])\n",
        "df['Gênero'] = mlb.fit_transform(df['Gênero'])\n",
        "df['FaixaEtaria'] = mlb.fit_transform(df['FaixaEtaria'])\n",
        "df['Raça'] = mlb.fit_transform(df['Raça'])\n",
        "df['Escolaridade'] = mlb.fit_transform(df['Escolaridade'])"
      ],
      "metadata": {
        "id": "PO44vbJiPnnI"
      },
      "execution_count": 48,
      "outputs": []
    },
    {
      "cell_type": "code",
      "source": [
        "## Esse comando é para traçar a distribuição\n",
        "## De probabilidades de cada atributo\n",
        "col = 3\n",
        "linhas = len(colunas)\n",
        "colors = sns.color_palette(\"Paired\")\n",
        "plt.figure(figsize=(20, 15))\n",
        "for i in range(0,len(colunas)):     \n",
        "     plt.subplot(4, 2, i+1)\n",
        "     sns.distplot(df[colunas[i]])"
      ],
      "metadata": {
        "colab": {
          "base_uri": "https://localhost:8080/",
          "height": 612
        },
        "id": "6SS04P-52AoH",
        "outputId": "96f63da5-88f9-4dec-ce61-5c9c2c2c7dbb"
      },
      "execution_count": 49,
      "outputs": [
        {
          "output_type": "stream",
          "name": "stderr",
          "text": [
            "/usr/local/lib/python3.7/dist-packages/seaborn/distributions.py:2619: FutureWarning: `distplot` is a deprecated function and will be removed in a future version. Please adapt your code to use either `displot` (a figure-level function with similar flexibility) or `histplot` (an axes-level function for histograms).\n",
            "  warnings.warn(msg, FutureWarning)\n",
            "/usr/local/lib/python3.7/dist-packages/seaborn/distributions.py:2619: FutureWarning: `distplot` is a deprecated function and will be removed in a future version. Please adapt your code to use either `displot` (a figure-level function with similar flexibility) or `histplot` (an axes-level function for histograms).\n",
            "  warnings.warn(msg, FutureWarning)\n",
            "/usr/local/lib/python3.7/dist-packages/seaborn/distributions.py:2619: FutureWarning: `distplot` is a deprecated function and will be removed in a future version. Please adapt your code to use either `displot` (a figure-level function with similar flexibility) or `histplot` (an axes-level function for histograms).\n",
            "  warnings.warn(msg, FutureWarning)\n",
            "/usr/local/lib/python3.7/dist-packages/seaborn/distributions.py:2619: FutureWarning: `distplot` is a deprecated function and will be removed in a future version. Please adapt your code to use either `displot` (a figure-level function with similar flexibility) or `histplot` (an axes-level function for histograms).\n",
            "  warnings.warn(msg, FutureWarning)\n"
          ]
        },
        {
          "output_type": "display_data",
          "data": {
            "text/plain": [
              "<Figure size 1440x1080 with 4 Axes>"
            ],
            "image/png": "[encoded data removed]"
          },
          "metadata": {
            "needs_background": "light"
          }
        }
      ]
    },
    {
      "cell_type": "code",
      "source": [
        "total = len(df.index)\n",
        "treino = df.iloc[: int(total * 0.7)]\n",
        "teste = df.iloc[ int(total * 0.7)+1 :]"
      ],
      "metadata": {
        "id": "b1lNTyhDm6Tr"
      },
      "execution_count": 50,
      "outputs": []
    },
    {
      "cell_type": "code",
      "source": [
        ""
      ],
      "metadata": {
        "id": "nH3L3Ke_Jc4b"
      },
      "execution_count": 50,
      "outputs": []
    },
    {
      "cell_type": "code",
      "source": [
        "## Esses comandos servem para\n",
        "## verificar as distribuições de\n",
        "## outliers com a ferramenta\n",
        "## boxplot\n",
        "\n",
        "plt.figure(figsize=(15, 16))\n",
        "colors = sns.color_palette()\n",
        "for i in range(0,len(colunas)):\n",
        "     \n",
        "    plt.subplot(4, 2, i+1)\n",
        "    _ = sns.boxplot(df[colunas [i]], color=colors[0 % 8])\n",
        "    plt.xlabel(colunas[i],fontsize=15)"
      ],
      "metadata": {
        "id": "zhLrLynrFFqj",
        "colab": {
          "base_uri": "https://localhost:8080/",
          "height": 642
        },
        "outputId": "069c8590-1c2c-4bd7-c004-59b31a2d4cbd"
      },
      "execution_count": 51,
      "outputs": [
        {
          "output_type": "stream",
          "name": "stderr",
          "text": [
            "/usr/local/lib/python3.7/dist-packages/seaborn/_decorators.py:43: FutureWarning: Pass the following variable as a keyword arg: x. From version 0.12, the only valid positional argument will be `data`, and passing other arguments without an explicit keyword will result in an error or misinterpretation.\n",
            "  FutureWarning\n",
            "/usr/local/lib/python3.7/dist-packages/seaborn/_decorators.py:43: FutureWarning: Pass the following variable as a keyword arg: x. From version 0.12, the only valid positional argument will be `data`, and passing other arguments without an explicit keyword will result in an error or misinterpretation.\n",
            "  FutureWarning\n",
            "/usr/local/lib/python3.7/dist-packages/seaborn/_decorators.py:43: FutureWarning: Pass the following variable as a keyword arg: x. From version 0.12, the only valid positional argument will be `data`, and passing other arguments without an explicit keyword will result in an error or misinterpretation.\n",
            "  FutureWarning\n",
            "/usr/local/lib/python3.7/dist-packages/seaborn/_decorators.py:43: FutureWarning: Pass the following variable as a keyword arg: x. From version 0.12, the only valid positional argument will be `data`, and passing other arguments without an explicit keyword will result in an error or misinterpretation.\n",
            "  FutureWarning\n"
          ]
        },
        {
          "output_type": "display_data",
          "data": {
            "text/plain": [
              "<Figure size 1080x1152 with 4 Axes>"
            ],
            "image/png": "[encoded data removed]"
          },
          "metadata": {
            "needs_background": "light"
          }
        }
      ]
    },
    {
      "cell_type": "code",
      "source": [
        "## Comando para Heatmap\n",
        "\n",
        "plt.figure(figsize=(10, 10))\n",
        "corr = df.corr()\n",
        "_ = sns.heatmap(corr, annot=True )\n",
        "\n"
      ],
      "metadata": {
        "id": "f5CCFIGbvEAf",
        "colab": {
          "base_uri": "https://localhost:8080/",
          "height": 595
        },
        "outputId": "873bbebe-eb1f-432f-ec34-dd264d9d1c4b"
      },
      "execution_count": 52,
      "outputs": [
        {
          "output_type": "display_data",
          "data": {
            "text/plain": [
              "<Figure size 720x720 with 2 Axes>"
            ],
            "image/png": "[encoded data removed]"
          },
          "metadata": {
            "needs_background": "light"
          }
        }
      ]
    },
    {
      "cell_type": "code",
      "source": [
        "X = df.drop('Gênero', axis=1).values\n",
        "print(X)\n",
        "\n",
        "Y= df['Gênero'].values\n",
        "print(Y)"
      ],
      "metadata": {
        "id": "cjIn3rohrbyn",
        "colab": {
          "base_uri": "https://localhost:8080/"
        },
        "outputId": "0f282240-3645-4673-c474-6877a2c0a8c1"
      },
      "execution_count": 53,
      "outputs": [
        {
          "output_type": "stream",
          "name": "stdout",
          "text": [
            "[[1 0 1 1]\n",
            " [1 0 1 0]\n",
            " [1 0 0 1]\n",
            " ...\n",
            " [1 0 1 1]\n",
            " [1 1 1 1]\n",
            " [1 1 1 0]]\n",
            "[0 1 0 ... 0 0 0]\n"
          ]
        }
      ]
    },
    {
      "cell_type": "code",
      "source": [
        "## Usando a função train_test_test para\n",
        "## separar os dados de testes e de treinos\n",
        "X_treino,X_teste,Y_treino,Y_teste=train_test_split(X,Y,test_size=0.25,random_state=0)"
      ],
      "metadata": {
        "id": "KArijcQXsxGu"
      },
      "execution_count": 54,
      "outputs": []
    },
    {
      "cell_type": "code",
      "source": [
        "modelo = SVC()\n",
        "\n"
      ],
      "metadata": {
        "id": "kzlQQH6pqBtQ"
      },
      "execution_count": 55,
      "outputs": []
    },
    {
      "cell_type": "markdown",
      "source": [
        "Uma forma diferente de conseguir a acuracia"
      ],
      "metadata": {
        "id": "Kqqy-g9xCA9p"
      }
    },
    {
      "cell_type": "code",
      "source": [
        "from sklearn.model_selection import GridSearchCV"
      ],
      "metadata": {
        "id": "B8XHNbs1qD2O"
      },
      "execution_count": 56,
      "outputs": []
    },
    {
      "cell_type": "code",
      "source": [
        "## Varíavel para os parâmetros\n",
        "## entre eles o tipo de função kernel\n",
        "parametros = {'C' : [1,10,20,30,40,50,60,100],\n",
        "             'kernel' : ['linear','rbf','sigmoid'],\n",
        "             'gamma' : ['scale','auto']\n",
        "             }"
      ],
      "metadata": {
        "id": "GTXhC1kCqLdb"
      },
      "execution_count": 57,
      "outputs": []
    },
    {
      "cell_type": "code",
      "source": [
        "## Obtendo o melhor modelo\n",
        "## Ao invês de usar a função SVM para \n",
        "## Cada parâmetro individualmente\n",
        "## EScolhe-se a melhor combinação de todos eles\n",
        "melhor_modelo = GridSearchCV(modelo, parametros, n_jobs=-1, cv=5, refit=True)"
      ],
      "metadata": {
        "id": "X-YcA-ZfqRhM"
      },
      "execution_count": 58,
      "outputs": []
    },
    {
      "cell_type": "code",
      "source": [
        "\n",
        "melhor_modelo.fit(X_treino, Y_treino)"
      ],
      "metadata": {
        "id": "gz6goqCRqWjZ",
        "colab": {
          "base_uri": "https://localhost:8080/"
        },
        "outputId": "fe58b681-354a-4ef5-973d-6b2f6d4e3e1b"
      },
      "execution_count": 59,
      "outputs": [
        {
          "output_type": "execute_result",
          "data": {
            "text/plain": [
              "GridSearchCV(cv=5, estimator=SVC(), n_jobs=-1,\n",
              "             param_grid={'C': [1, 10, 20, 30, 40, 50, 60, 100],\n",
              "                         'gamma': ['scale', 'auto'],\n",
              "                         'kernel': ['linear', 'rbf', 'sigmoid']})"
            ]
          },
          "metadata": {},
          "execution_count": 59
        }
      ]
    },
    {
      "cell_type": "code",
      "source": [
        ""
      ],
      "metadata": {
        "id": "jYi4YgTcqeal"
      },
      "execution_count": 59,
      "outputs": []
    },
    {
      "cell_type": "code",
      "source": [
        "modelo_final = melhor_modelo.best_estimator_\n",
        "\n"
      ],
      "metadata": {
        "id": "HO2sjjZ6qjdM"
      },
      "execution_count": 60,
      "outputs": []
    },
    {
      "cell_type": "code",
      "source": [
        "Y_previsto = modelo_final.predict(X_teste)"
      ],
      "metadata": {
        "id": "FYp_-502qq48"
      },
      "execution_count": 61,
      "outputs": []
    },
    {
      "cell_type": "code",
      "source": [
        "## Criando a matriz de confusão\n",
        "cm=confusion_matrix(Y_teste,Y_previsto)\n",
        "cm\n"
      ],
      "metadata": {
        "id": "FDSCGjwLq13z",
        "colab": {
          "base_uri": "https://localhost:8080/"
        },
        "outputId": "7a2cdc56-dcdd-40aa-bcac-183668842c1b"
      },
      "execution_count": 62,
      "outputs": [
        {
          "output_type": "execute_result",
          "data": {
            "text/plain": [
              "array([[726,   0],\n",
              "       [ 93,   6]])"
            ]
          },
          "metadata": {},
          "execution_count": 62
        }
      ]
    },
    {
      "cell_type": "code",
      "source": [
        "modelo_final.score(X_teste,Y_teste)"
      ],
      "metadata": {
        "id": "I8mBUb8tq6em",
        "colab": {
          "base_uri": "https://localhost:8080/"
        },
        "outputId": "90fcf514-0b04-46d5-a505-9c1343067199"
      },
      "execution_count": 63,
      "outputs": [
        {
          "output_type": "execute_result",
          "data": {
            "text/plain": [
              "0.8872727272727273"
            ]
          },
          "metadata": {},
          "execution_count": 63
        }
      ]
    },
    {
      "cell_type": "code",
      "source": [
        ""
      ],
      "metadata": {
        "id": "sKT4JB9b4wQ9"
      },
      "execution_count": 63,
      "outputs": []
    },
    {
      "cell_type": "markdown",
      "source": [
        "Outro modo de conseguir as métricas"
      ],
      "metadata": {
        "id": "pnlh5pM36XTr"
      }
    },
    {
      "cell_type": "code",
      "source": [
        "from sklearn.preprocessing import MinMaxScaler\n",
        "\n",
        "normalizador = MinMaxScaler(feature_range=(0,1)) \n",
        "\n",
        "for col in colunas:\n",
        "    df[col] = normalizador.fit_transform(df[col].values.reshape(-1, 1))\n"
      ],
      "metadata": {
        "id": "FkuoeB-ELbAg"
      },
      "execution_count": 64,
      "outputs": []
    },
    {
      "cell_type": "code",
      "source": [
        "from sklearn.svm import SVC\n",
        "\n",
        "svc = SVC()\n",
        "\n",
        "svc.fit(X_treino,Y_treino)\n",
        "\n",
        "\n",
        "Y_pred_svc = svc.predict(X_teste)\n",
        "\n",
        "acc_svc = accuracy_score(Y_teste,Y_pred_svc)\n",
        "prec_svc = precision_score(Y_teste,Y_pred_svc)\n",
        "rec_svc = recall_score(Y_teste,Y_pred_svc)\n",
        "f1_svc = f1_score(Y_teste,Y_pred_svc)\n",
        "\n",
        "print(\"Acuracia SVC = {:0.2f}\".format(acc_svc))\n",
        "print(\"Precisão SVC = {:0.2f}\".format(prec_svc))\n",
        "print(\"Recall SVC = {:0.2f}\".format(rec_svc))\n",
        "print(\"F1 SVC = {:0.2f}\".format(f1_svc))\n",
        "\n",
        "acc.append(acc_svc)\n",
        "prec.append(prec_svc)\n",
        "rec.append(rec_svc)\n",
        "f1.append(f1_svc)\n",
        "modelos.append(\"SVM\")\n",
        "\n"
      ],
      "metadata": {
        "colab": {
          "base_uri": "https://localhost:8080/"
        },
        "id": "arakRp3LSvag",
        "outputId": "45270a58-070e-4897-dcd1-83f46419025f"
      },
      "execution_count": 65,
      "outputs": [
        {
          "output_type": "stream",
          "name": "stdout",
          "text": [
            "Acuracia SVC = 0.89\n",
            "Precisão SVC = 1.00\n",
            "Recall SVC = 0.06\n",
            "F1 SVC = 0.11\n"
          ]
        }
      ]
    },
    {
      "cell_type": "code",
      "source": [
        "dici = {\"Modelo\" : modelos, \"Acuracia\" : acc, \"Precisao\" : prec, \"Recall\" : rec, \"F1\" : f1}\n",
        "\n",
        "pd_dici = pd.DataFrame(dici)\n",
        "\n",
        "pd_dici = pd_dici.sort_values(by='Recall',ascending=False)\n",
        "\n",
        "pd_dici"
      ],
      "metadata": {
        "id": "icwCQVgqTP4Z",
        "outputId": "3ecf3140-d845-49d8-f71c-25420dc5a909",
        "colab": {
          "base_uri": "https://localhost:8080/",
          "height": 81
        }
      },
      "execution_count": 66,
      "outputs": [
        {
          "output_type": "execute_result",
          "data": {
            "text/plain": [
              "  Modelo  Acuracia  Precisao    Recall        F1\n",
              "0    SVM  0.887273       1.0  0.060606  0.114286"
            ],
            "text/html": [
              "\n",
              "  <div id=\"df-221885b5-6825-4692-8aca-864c9e3a42da\">\n",
              "    <div class=\"colab-df-container\">\n",
              "      <div>\n",
              "<style scoped>\n",
              "    .dataframe tbody tr th:only-of-type {\n",
              "        vertical-align: middle;\n",
              "    }\n",
              "\n",
              "    .dataframe tbody tr th {\n",
              "        vertical-align: top;\n",
              "    }\n",
              "\n",
              "    .dataframe thead th {\n",
              "        text-align: right;\n",
              "    }\n",
              "</style>\n",
              "<table border=\"1\" class=\"dataframe\">\n",
              "  <thead>\n",
              "    <tr style=\"text-align: right;\">\n",
              "      <th></th>\n",
              "      <th>Modelo</th>\n",
              "      <th>Acuracia</th>\n",
              "      <th>Precisao</th>\n",
              "      <th>Recall</th>\n",
              "      <th>F1</th>\n",
              "    </tr>\n",
              "  </thead>\n",
              "  <tbody>\n",
              "    <tr>\n",
              "      <th>0</th>\n",
              "      <td>SVM</td>\n",
              "      <td>0.887273</td>\n",
              "      <td>1.0</td>\n",
              "      <td>0.060606</td>\n",
              "      <td>0.114286</td>\n",
              "    </tr>\n",
              "  </tbody>\n",
              "</table>\n",
              "</div>\n",
              "      <button class=\"colab-df-convert\" onclick=\"convertToInteractive('df-221885b5-6825-4692-8aca-864c9e3a42da')\"\n",
              "              title=\"Convert this dataframe to an interactive table.\"\n",
              "              style=\"display:none;\">\n",
              "        \n",
              "  <svg xmlns=\"http://www.w3.org/2000/svg\" height=\"24px\"viewBox=\"0 0 24 24\"\n",
              "       width=\"24px\">\n",
              "    <path d=\"M0 0h24v24H0V0z\" fill=\"none\"/>\n",
              "    <path d=\"M18.56 5.44l.94 2.06.94-2.06 2.06-.94-2.06-.94-.94-2.06-.94 2.06-2.06.94zm-11 1L8.5 8.5l.94-2.06 2.06-.94-2.06-.94L8.5 2.5l-.94 2.06-2.06.94zm10 10l.94 2.06.94-2.06 2.06-.94-2.06-.94-.94-2.06-.94 2.06-2.06.94z\"/><path d=\"M17.41 7.96l-1.37-1.37c-.4-.4-.92-.59-1.43-.59-.52 0-1.04.2-1.43.59L10.3 9.45l-7.72 7.72c-.78.78-.78 2.05 0 2.83L4 21.41c.39.39.9.59 1.41.59.51 0 1.02-.2 1.41-.59l7.78-7.78 2.81-2.81c.8-.78.8-2.07 0-2.86zM5.41 20L4 18.59l7.72-7.72 1.47 1.35L5.41 20z\"/>\n",
              "  </svg>\n",
              "      </button>\n",
              "      \n",
              "  <style>\n",
              "    .colab-df-container {\n",
              "      display:flex;\n",
              "      flex-wrap:wrap;\n",
              "      gap: 12px;\n",
              "    }\n",
              "\n",
              "    .colab-df-convert {\n",
              "      background-color: #E8F0FE;\n",
              "      border: none;\n",
              "      border-radius: 50%;\n",
              "      cursor: pointer;\n",
              "      display: none;\n",
              "      fill: #1967D2;\n",
              "      height: 32px;\n",
              "      padding: 0 0 0 0;\n",
              "      width: 32px;\n",
              "    }\n",
              "\n",
              "    .colab-df-convert:hover {\n",
              "      background-color: #E2EBFA;\n",
              "      box-shadow: 0px 1px 2px rgba(60, 64, 67, 0.3), 0px 1px 3px 1px rgba(60, 64, 67, 0.15);\n",
              "      fill: #174EA6;\n",
              "    }\n",
              "\n",
              "    [theme=dark] .colab-df-convert {\n",
              "      background-color: #3B4455;\n",
              "      fill: #D2E3FC;\n",
              "    }\n",
              "\n",
              "    [theme=dark] .colab-df-convert:hover {\n",
              "      background-color: #434B5C;\n",
              "      box-shadow: 0px 1px 3px 1px rgba(0, 0, 0, 0.15);\n",
              "      filter: drop-shadow(0px 1px 2px rgba(0, 0, 0, 0.3));\n",
              "      fill: #FFFFFF;\n",
              "    }\n",
              "  </style>\n",
              "\n",
              "      <script>\n",
              "        const buttonEl =\n",
              "          document.querySelector('#df-221885b5-6825-4692-8aca-864c9e3a42da button.colab-df-convert');\n",
              "        buttonEl.style.display =\n",
              "          google.colab.kernel.accessAllowed ? 'block' : 'none';\n",
              "\n",
              "        async function convertToInteractive(key) {\n",
              "          const element = document.querySelector('#df-221885b5-6825-4692-8aca-864c9e3a42da');\n",
              "          const dataTable =\n",
              "            await google.colab.kernel.invokeFunction('convertToInteractive',\n",
              "                                                     [key], {});\n",
              "          if (!dataTable) return;\n",
              "\n",
              "          const docLinkHtml = 'Like what you see? Visit the ' +\n",
              "            '<a target=\"_blank\" href=https://colab.research.google.com/notebooks/data_table.ipynb>data table notebook</a>'\n",
              "            + ' to learn more about interactive tables.';\n",
              "          element.innerHTML = '';\n",
              "          dataTable['output_type'] = 'display_data';\n",
              "          await google.colab.output.renderOutput(dataTable, element);\n",
              "          const docLink = document.createElement('div');\n",
              "          docLink.innerHTML = docLinkHtml;\n",
              "          element.appendChild(docLink);\n",
              "        }\n",
              "      </script>\n",
              "    </div>\n",
              "  </div>\n",
              "  "
            ]
          },
          "metadata": {},
          "execution_count": 66
        }
      ]
    }
  ]
}