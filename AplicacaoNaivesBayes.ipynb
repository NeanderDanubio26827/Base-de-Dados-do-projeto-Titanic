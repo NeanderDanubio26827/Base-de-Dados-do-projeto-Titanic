{
  "nbformat": 4,
  "nbformat_minor": 0,
  "metadata": {
    "colab": {
      "name": "AplicacaoNaivesBayes.ipynb",
      "provenance": [],
      "authorship_tag": "ABX9TyMXX4/fWUED5P/+76oqlgpa",
      "include_colab_link": true
    },
    "kernelspec": {
      "name": "python3",
      "display_name": "Python 3"
    },
    "language_info": {
      "name": "python"
    }
  },
  "cells": [
    {
      "cell_type": "markdown",
      "metadata": {
        "id": "view-in-github",
        "colab_type": "text"
      },
      "source": [
        "<a href=\"https://colab.research.google.com/github/NeanderDanubio26827/BaseDeDadosTitanic/blob/main/AplicacaoNaivesBayes.ipynb\" target=\"_parent\"><img src=\"https://colab.research.google.com/assets/colab-badge.svg\" alt=\"Open In Colab\"/></a>"
      ]
    },
    {
      "cell_type": "markdown",
      "source": [
        "Código da implementação do Naive Bayes"
      ],
      "metadata": {
        "id": "37XBuoagxjKj"
      }
    },
    {
      "cell_type": "code",
      "execution_count": null,
      "metadata": {
        "id": "BUT5HmOBw-Os"
      },
      "outputs": [],
      "source": [
        "from optparse import Values\n",
        "import pandas as pd\n",
        "import numpy as np\n",
        "import matplotlib.pyplot as plt \n",
        "import seaborn as sns\n",
        "from sklearn.preprocessing import LabelEncoder, StandardScaler\n",
        "from sklearn.model_selection import train_test_split\n",
        "from sklearn.svm import SVC\n",
        "from sklearn.metrics import confusion_matrix, accuracy_score\n",
        "from sklearn.metrics import accuracy_score, recall_score, precision_score, f1_score\n",
        "from sklearn.preprocessing import MinMaxScaler, MultiLabelBinarizer\n",
        "import collections"
      ]
    },
    {
      "cell_type": "code",
      "source": [
        "def faixa_etaria(idade):\n",
        "    if idade == np.nan:\n",
        "        return 'Não informada'\n",
        "    elif '0' <= idade <= '10':\n",
        "        return 'Criança'\n",
        "    elif '11' <= idade <= '18':\n",
        "        return 'Jovem'\n",
        "    elif '19' <= idade <= '50':\n",
        "        return 'Adulto'\n",
        "    else:\n",
        "        return 'Idoso'"
      ],
      "metadata": {
        "id": "-VrdvTK6xCwd"
      },
      "execution_count": null,
      "outputs": []
    },
    {
      "cell_type": "code",
      "source": [
        "df = pd.read_csv('https://raw.githubusercontent.com/NeanderDanubio26827/projetoKNN/main/CVLI_12_2021Tratado.csv' , sep=';')\n",
        "\n",
        "df = df[['Natureza',  'Gênero', 'Idade da Vítima', 'Escolaridade da Vítima','Raça da Vítima']]\n",
        "df.head()"
      ],
      "metadata": {
        "id": "lZjuWOXsxGqW",
        "colab": {
          "base_uri": "https://localhost:8080/",
          "height": 206
        },
        "outputId": "05a9febd-0bfc-4b8f-eb1e-db50994f8b99"
      },
      "execution_count": null,
      "outputs": [
        {
          "output_type": "execute_result",
          "data": {
            "text/plain": [
              "                              Natureza     Gênero Idade da Vítima  \\\n",
              "0                     HOMICIDIO DOLOSO  Masculino   Não Informada   \n",
              "1      LESAO CORPORAL SEGUIDA DE MORTE   Feminino              15   \n",
              "2                     HOMICIDIO DOLOSO  Masculino              16   \n",
              "3  ROUBO SEGUIDO DE MORTE (LATROCINIO)  Masculino              20   \n",
              "4                     HOMICIDIO DOLOSO  Masculino              26   \n",
              "\n",
              "          Escolaridade da Vítima Raça da Vítima  \n",
              "0  Ensino Fundamental Incompleto  Não Informada  \n",
              "1  Ensino Fundamental Incompleto          Parda  \n",
              "2                   Alfabetizado  Não Informada  \n",
              "3    Ensino Fundamental Completo  Não Informada  \n",
              "4                   Alfabetizado  Não Informada  "
            ],
            "text/html": [
              "\n",
              "  <div id=\"df-7012313d-3550-4e88-9430-59ece8864250\">\n",
              "    <div class=\"colab-df-container\">\n",
              "      <div>\n",
              "<style scoped>\n",
              "    .dataframe tbody tr th:only-of-type {\n",
              "        vertical-align: middle;\n",
              "    }\n",
              "\n",
              "    .dataframe tbody tr th {\n",
              "        vertical-align: top;\n",
              "    }\n",
              "\n",
              "    .dataframe thead th {\n",
              "        text-align: right;\n",
              "    }\n",
              "</style>\n",
              "<table border=\"1\" class=\"dataframe\">\n",
              "  <thead>\n",
              "    <tr style=\"text-align: right;\">\n",
              "      <th></th>\n",
              "      <th>Natureza</th>\n",
              "      <th>Gênero</th>\n",
              "      <th>Idade da Vítima</th>\n",
              "      <th>Escolaridade da Vítima</th>\n",
              "      <th>Raça da Vítima</th>\n",
              "    </tr>\n",
              "  </thead>\n",
              "  <tbody>\n",
              "    <tr>\n",
              "      <th>0</th>\n",
              "      <td>HOMICIDIO DOLOSO</td>\n",
              "      <td>Masculino</td>\n",
              "      <td>Não Informada</td>\n",
              "      <td>Ensino Fundamental Incompleto</td>\n",
              "      <td>Não Informada</td>\n",
              "    </tr>\n",
              "    <tr>\n",
              "      <th>1</th>\n",
              "      <td>LESAO CORPORAL SEGUIDA DE MORTE</td>\n",
              "      <td>Feminino</td>\n",
              "      <td>15</td>\n",
              "      <td>Ensino Fundamental Incompleto</td>\n",
              "      <td>Parda</td>\n",
              "    </tr>\n",
              "    <tr>\n",
              "      <th>2</th>\n",
              "      <td>HOMICIDIO DOLOSO</td>\n",
              "      <td>Masculino</td>\n",
              "      <td>16</td>\n",
              "      <td>Alfabetizado</td>\n",
              "      <td>Não Informada</td>\n",
              "    </tr>\n",
              "    <tr>\n",
              "      <th>3</th>\n",
              "      <td>ROUBO SEGUIDO DE MORTE (LATROCINIO)</td>\n",
              "      <td>Masculino</td>\n",
              "      <td>20</td>\n",
              "      <td>Ensino Fundamental Completo</td>\n",
              "      <td>Não Informada</td>\n",
              "    </tr>\n",
              "    <tr>\n",
              "      <th>4</th>\n",
              "      <td>HOMICIDIO DOLOSO</td>\n",
              "      <td>Masculino</td>\n",
              "      <td>26</td>\n",
              "      <td>Alfabetizado</td>\n",
              "      <td>Não Informada</td>\n",
              "    </tr>\n",
              "  </tbody>\n",
              "</table>\n",
              "</div>\n",
              "      <button class=\"colab-df-convert\" onclick=\"convertToInteractive('df-7012313d-3550-4e88-9430-59ece8864250')\"\n",
              "              title=\"Convert this dataframe to an interactive table.\"\n",
              "              style=\"display:none;\">\n",
              "        \n",
              "  <svg xmlns=\"http://www.w3.org/2000/svg\" height=\"24px\"viewBox=\"0 0 24 24\"\n",
              "       width=\"24px\">\n",
              "    <path d=\"M0 0h24v24H0V0z\" fill=\"none\"/>\n",
              "    <path d=\"M18.56 5.44l.94 2.06.94-2.06 2.06-.94-2.06-.94-.94-2.06-.94 2.06-2.06.94zm-11 1L8.5 8.5l.94-2.06 2.06-.94-2.06-.94L8.5 2.5l-.94 2.06-2.06.94zm10 10l.94 2.06.94-2.06 2.06-.94-2.06-.94-.94-2.06-.94 2.06-2.06.94z\"/><path d=\"M17.41 7.96l-1.37-1.37c-.4-.4-.92-.59-1.43-.59-.52 0-1.04.2-1.43.59L10.3 9.45l-7.72 7.72c-.78.78-.78 2.05 0 2.83L4 21.41c.39.39.9.59 1.41.59.51 0 1.02-.2 1.41-.59l7.78-7.78 2.81-2.81c.8-.78.8-2.07 0-2.86zM5.41 20L4 18.59l7.72-7.72 1.47 1.35L5.41 20z\"/>\n",
              "  </svg>\n",
              "      </button>\n",
              "      \n",
              "  <style>\n",
              "    .colab-df-container {\n",
              "      display:flex;\n",
              "      flex-wrap:wrap;\n",
              "      gap: 12px;\n",
              "    }\n",
              "\n",
              "    .colab-df-convert {\n",
              "      background-color: #E8F0FE;\n",
              "      border: none;\n",
              "      border-radius: 50%;\n",
              "      cursor: pointer;\n",
              "      display: none;\n",
              "      fill: #1967D2;\n",
              "      height: 32px;\n",
              "      padding: 0 0 0 0;\n",
              "      width: 32px;\n",
              "    }\n",
              "\n",
              "    .colab-df-convert:hover {\n",
              "      background-color: #E2EBFA;\n",
              "      box-shadow: 0px 1px 2px rgba(60, 64, 67, 0.3), 0px 1px 3px 1px rgba(60, 64, 67, 0.15);\n",
              "      fill: #174EA6;\n",
              "    }\n",
              "\n",
              "    [theme=dark] .colab-df-convert {\n",
              "      background-color: #3B4455;\n",
              "      fill: #D2E3FC;\n",
              "    }\n",
              "\n",
              "    [theme=dark] .colab-df-convert:hover {\n",
              "      background-color: #434B5C;\n",
              "      box-shadow: 0px 1px 3px 1px rgba(0, 0, 0, 0.15);\n",
              "      filter: drop-shadow(0px 1px 2px rgba(0, 0, 0, 0.3));\n",
              "      fill: #FFFFFF;\n",
              "    }\n",
              "  </style>\n",
              "\n",
              "      <script>\n",
              "        const buttonEl =\n",
              "          document.querySelector('#df-7012313d-3550-4e88-9430-59ece8864250 button.colab-df-convert');\n",
              "        buttonEl.style.display =\n",
              "          google.colab.kernel.accessAllowed ? 'block' : 'none';\n",
              "\n",
              "        async function convertToInteractive(key) {\n",
              "          const element = document.querySelector('#df-7012313d-3550-4e88-9430-59ece8864250');\n",
              "          const dataTable =\n",
              "            await google.colab.kernel.invokeFunction('convertToInteractive',\n",
              "                                                     [key], {});\n",
              "          if (!dataTable) return;\n",
              "\n",
              "          const docLinkHtml = 'Like what you see? Visit the ' +\n",
              "            '<a target=\"_blank\" href=https://colab.research.google.com/notebooks/data_table.ipynb>data table notebook</a>'\n",
              "            + ' to learn more about interactive tables.';\n",
              "          element.innerHTML = '';\n",
              "          dataTable['output_type'] = 'display_data';\n",
              "          await google.colab.output.renderOutput(dataTable, element);\n",
              "          const docLink = document.createElement('div');\n",
              "          docLink.innerHTML = docLinkHtml;\n",
              "          element.appendChild(docLink);\n",
              "        }\n",
              "      </script>\n",
              "    </div>\n",
              "  </div>\n",
              "  "
            ]
          },
          "metadata": {},
          "execution_count": 3
        }
      ]
    },
    {
      "cell_type": "code",
      "source": [
        "df.isnull().sum()"
      ],
      "metadata": {
        "colab": {
          "base_uri": "https://localhost:8080/"
        },
        "id": "WtyaB8Wn-VWo",
        "outputId": "2e8d3fda-f2d4-4a01-91e1-4709e42bf275"
      },
      "execution_count": null,
      "outputs": [
        {
          "output_type": "execute_result",
          "data": {
            "text/plain": [
              "Natureza                  0\n",
              "Gênero                    0\n",
              "Idade da Vítima           0\n",
              "Escolaridade da Vítima    0\n",
              "Raça da Vítima            0\n",
              "dtype: int64"
            ]
          },
          "metadata": {},
          "execution_count": 4
        }
      ]
    },
    {
      "cell_type": "code",
      "source": [
        "df.isna().sum()"
      ],
      "metadata": {
        "colab": {
          "base_uri": "https://localhost:8080/"
        },
        "id": "po0rI1cS-alt",
        "outputId": "efe3821d-8304-4502-ff07-c86e5681f3eb"
      },
      "execution_count": null,
      "outputs": [
        {
          "output_type": "execute_result",
          "data": {
            "text/plain": [
              "Natureza                  0\n",
              "Gênero                    0\n",
              "Idade da Vítima           0\n",
              "Escolaridade da Vítima    0\n",
              "Raça da Vítima            0\n",
              "dtype: int64"
            ]
          },
          "metadata": {},
          "execution_count": 5
        }
      ]
    },
    {
      "cell_type": "code",
      "source": [
        "df['FaixaEtaria']= [faixa_etaria(k) for k in df['Idade da Vítima'].values]\n",
        "df = df.drop('Idade da Vítima', axis=1)\n",
        "print(df)"
      ],
      "metadata": {
        "id": "HCiARd-HxPHz",
        "colab": {
          "base_uri": "https://localhost:8080/"
        },
        "outputId": "81097deb-0b8c-448e-d909-8e5c9f57a623"
      },
      "execution_count": null,
      "outputs": [
        {
          "output_type": "stream",
          "name": "stdout",
          "text": [
            "                                 Natureza     Gênero  \\\n",
            "0                        HOMICIDIO DOLOSO  Masculino   \n",
            "1         LESAO CORPORAL SEGUIDA DE MORTE   Feminino   \n",
            "2                        HOMICIDIO DOLOSO  Masculino   \n",
            "3     ROUBO SEGUIDO DE MORTE (LATROCINIO)  Masculino   \n",
            "4                        HOMICIDIO DOLOSO  Masculino   \n",
            "...                                   ...        ...   \n",
            "3294                     HOMICIDIO DOLOSO  Masculino   \n",
            "3295                     HOMICIDIO DOLOSO  Masculino   \n",
            "3296                     HOMICIDIO DOLOSO  Masculino   \n",
            "3297                     HOMICIDIO DOLOSO  Masculino   \n",
            "3298                     HOMICIDIO DOLOSO  Masculino   \n",
            "\n",
            "             Escolaridade da Vítima Raça da Vítima FaixaEtaria  \n",
            "0     Ensino Fundamental Incompleto  Não Informada       Idoso  \n",
            "1     Ensino Fundamental Incompleto          Parda       Jovem  \n",
            "2                      Alfabetizado  Não Informada       Jovem  \n",
            "3       Ensino Fundamental Completo  Não Informada      Adulto  \n",
            "4                      Alfabetizado  Não Informada      Adulto  \n",
            "...                             ...            ...         ...  \n",
            "3294                  Não Informada  Não Informada      Adulto  \n",
            "3295    Ensino Fundamental Completo  Não Informada      Adulto  \n",
            "3296                  Não Informada  Não Informada       Idoso  \n",
            "3297          Ensino Médio Completo  Não Informada      Adulto  \n",
            "3298    Ensino Fundamental Completo          Parda      Adulto  \n",
            "\n",
            "[3299 rows x 5 columns]\n"
          ]
        }
      ]
    },
    {
      "cell_type": "code",
      "source": [
        "df['TipoCrime'] = df['Natureza']\n",
        "df['Gênero'] = df['Gênero']\n",
        "df['Raça'] = df['Raça da Vítima']\n",
        "df['Escolaridade'] = df['Escolaridade da Vítima']\n",
        "\n",
        "df = df.drop('Escolaridade da Vítima', axis=1)\n",
        "df = df.drop('Raça da Vítima', axis=1)\n",
        "df = df.drop('Natureza', axis=1)"
      ],
      "metadata": {
        "id": "qYN359qFxXXq"
      },
      "execution_count": null,
      "outputs": []
    },
    {
      "cell_type": "code",
      "source": [
        "total = len(df.index)\n",
        "treino = df.iloc[: int(total * 0.7)]\n",
        "teste = df.iloc[ int(total * 0.7)+1 :]"
      ],
      "metadata": {
        "id": "D2ePo2dG6evQ"
      },
      "execution_count": null,
      "outputs": []
    },
    {
      "cell_type": "code",
      "source": [
        "def matriz_confusao(esperados, estimados):\n",
        "  tp, fp, tn, fn = 0,0,0,0\n",
        "  for par in zip(esperados, estimados):\n",
        "    if par[0] and par[1]:\n",
        "      tp += 1\n",
        "    elif par[0] and not par[1]:\n",
        "      fn += 1\n",
        "    elif not par[0] and not par[1]:\n",
        "      tn += 1\n",
        "    elif not par[0] and par[1]:\n",
        "      fp += 1\n",
        "  return np.array([tp, fp, tn, fn])\n",
        "\n",
        "\n",
        "def acuracia(esperados, estimados):\n",
        "  n = len(esperados)\n",
        "  tp, fp, tn, fn = matriz_confusao(esperados, estimados)\n",
        "  return (tp + tn) / n\n",
        "\n"
      ],
      "metadata": {
        "id": "8Ird35I5yqY_"
      },
      "execution_count": null,
      "outputs": []
    },
    {
      "cell_type": "code",
      "source": [
        "colunas = [ k for k in df.keys() if k != 'Gênero']\n",
        "print(colunas)"
      ],
      "metadata": {
        "colab": {
          "base_uri": "https://localhost:8080/"
        },
        "id": "IG0A9Kjm1jrX",
        "outputId": "8740bff2-7c4d-4497-a02e-f8292c792dd9"
      },
      "execution_count": null,
      "outputs": [
        {
          "output_type": "stream",
          "name": "stdout",
          "text": [
            "['FaixaEtaria', 'TipoCrime', 'Raça', 'Escolaridade']\n"
          ]
        }
      ]
    },
    {
      "cell_type": "code",
      "source": [
        "print(df)"
      ],
      "metadata": {
        "colab": {
          "base_uri": "https://localhost:8080/"
        },
        "id": "k50vAtsTxzDl",
        "outputId": "b3d865ef-8af6-4207-fe59-85e70d93b42c"
      },
      "execution_count": null,
      "outputs": [
        {
          "output_type": "stream",
          "name": "stdout",
          "text": [
            "         Gênero FaixaEtaria                            TipoCrime  \\\n",
            "0     Masculino       Idoso                     HOMICIDIO DOLOSO   \n",
            "1      Feminino       Jovem      LESAO CORPORAL SEGUIDA DE MORTE   \n",
            "2     Masculino       Jovem                     HOMICIDIO DOLOSO   \n",
            "3     Masculino      Adulto  ROUBO SEGUIDO DE MORTE (LATROCINIO)   \n",
            "4     Masculino      Adulto                     HOMICIDIO DOLOSO   \n",
            "...         ...         ...                                  ...   \n",
            "3294  Masculino      Adulto                     HOMICIDIO DOLOSO   \n",
            "3295  Masculino      Adulto                     HOMICIDIO DOLOSO   \n",
            "3296  Masculino       Idoso                     HOMICIDIO DOLOSO   \n",
            "3297  Masculino      Adulto                     HOMICIDIO DOLOSO   \n",
            "3298  Masculino      Adulto                     HOMICIDIO DOLOSO   \n",
            "\n",
            "               Raça                   Escolaridade  \n",
            "0     Não Informada  Ensino Fundamental Incompleto  \n",
            "1             Parda  Ensino Fundamental Incompleto  \n",
            "2     Não Informada                   Alfabetizado  \n",
            "3     Não Informada    Ensino Fundamental Completo  \n",
            "4     Não Informada                   Alfabetizado  \n",
            "...             ...                            ...  \n",
            "3294  Não Informada                  Não Informada  \n",
            "3295  Não Informada    Ensino Fundamental Completo  \n",
            "3296  Não Informada                  Não Informada  \n",
            "3297  Não Informada          Ensino Médio Completo  \n",
            "3298          Parda    Ensino Fundamental Completo  \n",
            "\n",
            "[3299 rows x 5 columns]\n"
          ]
        }
      ]
    },
    {
      "cell_type": "markdown",
      "source": [
        "Calculando P(x)"
      ],
      "metadata": {
        "id": "H0MstpfVx_BX"
      }
    },
    {
      "cell_type": "code",
      "source": [
        "\n",
        "classes = df['TipoCrime'].unique()\n",
        "print(classes)"
      ],
      "metadata": {
        "colab": {
          "base_uri": "https://localhost:8080/"
        },
        "id": "2W-VYZ9Mx-cr",
        "outputId": "b917e976-073e-4856-fbcc-52ee3a23677d"
      },
      "execution_count": null,
      "outputs": [
        {
          "output_type": "stream",
          "name": "stdout",
          "text": [
            "['HOMICIDIO DOLOSO' 'LESAO CORPORAL SEGUIDA DE MORTE'\n",
            " 'ROUBO SEGUIDO DE MORTE (LATROCINIO)' 'FEMINICÍDIO']\n"
          ]
        }
      ]
    },
    {
      "cell_type": "code",
      "source": [
        "enconder = LabelEncoder()\n",
        "sc = StandardScaler()\n",
        "\n",
        "df['TipoCrime'] = enconder.fit_transform(df['TipoCrime'])\n",
        "df['Gênero'] = enconder.fit_transform(df['Gênero'])\n",
        "df['FaixaEtaria'] = enconder.fit_transform(df['FaixaEtaria'])\n",
        "df['Raça'] = enconder.fit_transform(df['Raça'])\n",
        "df['Escolaridade'] = enconder.fit_transform(df['Escolaridade'])"
      ],
      "metadata": {
        "id": "jWW6HzGe9mHD"
      },
      "execution_count": null,
      "outputs": []
    },
    {
      "cell_type": "code",
      "source": [
        "enconder = LabelEncoder()\n",
        "sc = StandardScaler()\n",
        "\n",
        "#treino['TipoCrime'] = enconder.fit_transform(treino['TipoCrime'])\n",
        "treino['Gênero'] = enconder.fit_transform(treino['Gênero'])\n",
        "#treino['FaixaEtaria'] = enconder.fit_transform(treino['FaixaEtaria'])\n",
        "#treino['Raça'] = enconder.fit_transform(treino['Raça'])\n",
        "#treino['Escolaridade'] = enconder.fit_transform(treino['Escolaridade'])"
      ],
      "metadata": {
        "colab": {
          "base_uri": "https://localhost:8080/"
        },
        "id": "mR088Btn9mDf",
        "outputId": "34694b71-9f37-4956-be0e-20b17b58db69"
      },
      "execution_count": null,
      "outputs": [
        {
          "output_type": "stream",
          "name": "stderr",
          "text": [
            "/usr/local/lib/python3.7/dist-packages/ipykernel_launcher.py:5: SettingWithCopyWarning: \n",
            "A value is trying to be set on a copy of a slice from a DataFrame.\n",
            "Try using .loc[row_indexer,col_indexer] = value instead\n",
            "\n",
            "See the caveats in the documentation: https://pandas.pydata.org/pandas-docs/stable/user_guide/indexing.html#returning-a-view-versus-a-copy\n",
            "  \"\"\"\n"
          ]
        }
      ]
    },
    {
      "cell_type": "code",
      "source": [
        "def naive_bayes(df, x, y):\n",
        "  n = df.size\n",
        "  \n",
        "  #Probabilidade da evidência - P(x)\n",
        "  x_df = df.query(x)\n",
        "  xn = x_df.size\n",
        "  px = xn/n  \n",
        "\n",
        "  #Probabilidade À Priori - P(y) [por classe]\n",
        "  classes = df[y].unique()\n",
        "  py = {}\n",
        "  for classe in classes:\n",
        "    y_dados = df.query(\"{} == {}\".format(y, classe))\n",
        "    yn = y_dados.size\n",
        "    py[classe] = yn/n\n",
        "\n",
        "  #Verossimilhança - P(x|y) [por classe]\n",
        "  pxy = {}\n",
        "  for classe in classes:\n",
        "    xy_dados = df.query(x + \" & {} == {}\".format(y, classe))\n",
        "    xyn = xy_dados.size\n",
        "    pxy[classe] = (xyn/n)/py[classe]\n",
        "\n",
        "  #Probabilidade À Posteriori - P(y|x) [por classe]\n",
        "  pyx = {}\n",
        "  for classe in classes:\n",
        "    pyx[classe] = (pxy[classe] * py[classe]) / px\n",
        "\n",
        "  return max(pyx, key=pyx.get)\n"
      ],
      "metadata": {
        "id": "xl551pmby5Su"
      },
      "execution_count": null,
      "outputs": []
    },
    {
      "cell_type": "code",
      "source": [
        "print(df)\n",
        "print(treino)"
      ],
      "metadata": {
        "colab": {
          "base_uri": "https://localhost:8080/"
        },
        "id": "e3NParee_LdL",
        "outputId": "0bbb9011-4d4f-4075-b9af-4fafd4cee012"
      },
      "execution_count": null,
      "outputs": [
        {
          "output_type": "stream",
          "name": "stdout",
          "text": [
            "      Gênero  FaixaEtaria  TipoCrime  Raça  Escolaridade\n",
            "0          1            2          1     3             2\n",
            "1          0            3          2     4             2\n",
            "2          1            3          1     3             0\n",
            "3          1            0          3     3             1\n",
            "4          1            0          1     3             0\n",
            "...      ...          ...        ...   ...           ...\n",
            "3294       1            0          1     3             6\n",
            "3295       1            0          1     3             1\n",
            "3296       1            2          1     3             6\n",
            "3297       1            0          1     3             3\n",
            "3298       1            0          1     4             1\n",
            "\n",
            "[3299 rows x 5 columns]\n",
            "      Gênero FaixaEtaria                            TipoCrime           Raça  \\\n",
            "0          1       Idoso                     HOMICIDIO DOLOSO  Não Informada   \n",
            "1          0       Jovem      LESAO CORPORAL SEGUIDA DE MORTE          Parda   \n",
            "2          1       Jovem                     HOMICIDIO DOLOSO  Não Informada   \n",
            "3          1      Adulto  ROUBO SEGUIDO DE MORTE (LATROCINIO)  Não Informada   \n",
            "4          1      Adulto                     HOMICIDIO DOLOSO  Não Informada   \n",
            "...      ...         ...                                  ...            ...   \n",
            "2304       1      Adulto                     HOMICIDIO DOLOSO  Não Informada   \n",
            "2305       1      Adulto                     HOMICIDIO DOLOSO  Não Informada   \n",
            "2306       1      Adulto                     HOMICIDIO DOLOSO          Parda   \n",
            "2307       1      Adulto                     HOMICIDIO DOLOSO  Não Informada   \n",
            "2308       1       Idoso                     HOMICIDIO DOLOSO  Não Informada   \n",
            "\n",
            "                       Escolaridade  \n",
            "0     Ensino Fundamental Incompleto  \n",
            "1     Ensino Fundamental Incompleto  \n",
            "2                      Alfabetizado  \n",
            "3       Ensino Fundamental Completo  \n",
            "4                      Alfabetizado  \n",
            "...                             ...  \n",
            "2304                   Alfabetizado  \n",
            "2305          Ensino Médio Completo  \n",
            "2306  Ensino Fundamental Incompleto  \n",
            "2307                  Não Informada  \n",
            "2308                   Alfabetizado  \n",
            "\n",
            "[2309 rows x 5 columns]\n"
          ]
        }
      ]
    },
    {
      "cell_type": "code",
      "source": [
        "naive_bayes(treino, \"TipoCrime == 'LESAO CORPORAL SEGUIDA DE MORTE' & Raça == 'Parda'\", \"Gênero\")"
      ],
      "metadata": {
        "colab": {
          "base_uri": "https://localhost:8080/"
        },
        "id": "kJ7XrSyMzOqT",
        "outputId": "44cc4c01-db68-4449-da19-414f2a891561"
      },
      "execution_count": null,
      "outputs": [
        {
          "output_type": "execute_result",
          "data": {
            "text/plain": [
              "1"
            ]
          },
          "metadata": {},
          "execution_count": 17
        }
      ]
    },
    {
      "cell_type": "code",
      "source": [
        "x = [\"TipoCrime\",\"Raça\"]\n",
        "y = \"Gênero\"\n",
        "esperados = []\n",
        "estimados = []\n",
        "\n",
        "for indice in teste.index:\n",
        "  instancia = teste.loc[indice]\n",
        "\n",
        "  esperados.append(instancia[y])\n",
        "\n",
        "  tmp = ['{} == \\'{}\\''.format(chave, instancia[chave]) for chave in x]\n",
        "  consulta = ' & '.join(tmp)\n",
        "\n",
        "  y_est = naive_bayes(treino, consulta, y)\n",
        "\n",
        "  estimados.append(y_est)\n",
        "\n",
        "acuracia(esperados, estimados)\n"
      ],
      "metadata": {
        "colab": {
          "base_uri": "https://localhost:8080/"
        },
        "id": "Me6dGZAOGhAj",
        "outputId": "2291c30d-16b7-4a35-c014-61a19d43d220"
      },
      "execution_count": null,
      "outputs": [
        {
          "output_type": "execute_result",
          "data": {
            "text/plain": [
              "0.9908998988877654"
            ]
          },
          "metadata": {},
          "execution_count": 18
        }
      ]
    },
    {
      "cell_type": "code",
      "source": [
        "treino['TipoCrime'] = enconder.fit_transform(treino['TipoCrime'])\n",
        "treino['Gênero'] = enconder.fit_transform(treino['Gênero'])\n",
        "treino['FaixaEtaria'] = enconder.fit_transform(treino['FaixaEtaria'])\n",
        "treino['Raça'] = enconder.fit_transform(treino['Raça'])\n",
        "treino['Escolaridade'] = enconder.fit_transform(treino['Escolaridade'])"
      ],
      "metadata": {
        "colab": {
          "base_uri": "https://localhost:8080/"
        },
        "id": "eib_oYpMJU0R",
        "outputId": "e9fcd56b-c3c1-4d87-9f55-4dc4b814e61c"
      },
      "execution_count": null,
      "outputs": [
        {
          "output_type": "stream",
          "name": "stderr",
          "text": [
            "/usr/local/lib/python3.7/dist-packages/ipykernel_launcher.py:1: SettingWithCopyWarning: \n",
            "A value is trying to be set on a copy of a slice from a DataFrame.\n",
            "Try using .loc[row_indexer,col_indexer] = value instead\n",
            "\n",
            "See the caveats in the documentation: https://pandas.pydata.org/pandas-docs/stable/user_guide/indexing.html#returning-a-view-versus-a-copy\n",
            "  \"\"\"Entry point for launching an IPython kernel.\n",
            "/usr/local/lib/python3.7/dist-packages/ipykernel_launcher.py:2: SettingWithCopyWarning: \n",
            "A value is trying to be set on a copy of a slice from a DataFrame.\n",
            "Try using .loc[row_indexer,col_indexer] = value instead\n",
            "\n",
            "See the caveats in the documentation: https://pandas.pydata.org/pandas-docs/stable/user_guide/indexing.html#returning-a-view-versus-a-copy\n",
            "  \n",
            "/usr/local/lib/python3.7/dist-packages/ipykernel_launcher.py:3: SettingWithCopyWarning: \n",
            "A value is trying to be set on a copy of a slice from a DataFrame.\n",
            "Try using .loc[row_indexer,col_indexer] = value instead\n",
            "\n",
            "See the caveats in the documentation: https://pandas.pydata.org/pandas-docs/stable/user_guide/indexing.html#returning-a-view-versus-a-copy\n",
            "  This is separate from the ipykernel package so we can avoid doing imports until\n",
            "/usr/local/lib/python3.7/dist-packages/ipykernel_launcher.py:4: SettingWithCopyWarning: \n",
            "A value is trying to be set on a copy of a slice from a DataFrame.\n",
            "Try using .loc[row_indexer,col_indexer] = value instead\n",
            "\n",
            "See the caveats in the documentation: https://pandas.pydata.org/pandas-docs/stable/user_guide/indexing.html#returning-a-view-versus-a-copy\n",
            "  after removing the cwd from sys.path.\n",
            "/usr/local/lib/python3.7/dist-packages/ipykernel_launcher.py:5: SettingWithCopyWarning: \n",
            "A value is trying to be set on a copy of a slice from a DataFrame.\n",
            "Try using .loc[row_indexer,col_indexer] = value instead\n",
            "\n",
            "See the caveats in the documentation: https://pandas.pydata.org/pandas-docs/stable/user_guide/indexing.html#returning-a-view-versus-a-copy\n",
            "  \"\"\"\n"
          ]
        }
      ]
    },
    {
      "cell_type": "code",
      "source": [
        "# colors = sns.color_palette(\"Paired\")\n",
        "# plt.figure(figsize=(20, 15))\n",
        "# for i in range(0,len(colunas)):     \n",
        "#      plt.subplot(4, 2, i+1)\n",
        "#      sns.distplot(treino, x=x[i], bins=50,color=colors[i],kde=False,hist_kws=dict(alpha=1))\n",
        "#      plt.xlabel(x[i],fontsize=15)"
      ],
      "metadata": {
        "id": "6vGikONnHZGR"
      },
      "execution_count": null,
      "outputs": []
    },
    {
      "cell_type": "code",
      "source": [
        "acc = []\n",
        "prec = []\n",
        "rec = []\n",
        "f1 = []\n",
        "modelos = []"
      ],
      "metadata": {
        "id": "940khHLtQBEs"
      },
      "execution_count": null,
      "outputs": []
    },
    {
      "cell_type": "code",
      "source": [
        "X = df.drop('Gênero', axis=1).values\n",
        "print(X)\n",
        "\n",
        "Y= df['Gênero'].values\n",
        "print(Y)"
      ],
      "metadata": {
        "colab": {
          "base_uri": "https://localhost:8080/"
        },
        "id": "FRsAyk7KPLKe",
        "outputId": "ff5ad99e-90d4-4862-9c10-7be2635a4eca"
      },
      "execution_count": null,
      "outputs": [
        {
          "output_type": "stream",
          "name": "stdout",
          "text": [
            "[[2 1 3 2]\n",
            " [3 2 4 2]\n",
            " [3 1 3 0]\n",
            " ...\n",
            " [2 1 3 6]\n",
            " [0 1 3 3]\n",
            " [0 1 4 1]]\n",
            "[1 0 1 ... 1 1 1]\n"
          ]
        }
      ]
    },
    {
      "cell_type": "code",
      "source": [
        "## Usando a função train_test_test para\n",
        "## separar os dados de testes e de treinos\n",
        "X_treino,X_teste,Y_treino,Y_teste=train_test_split(X,Y,test_size=0.25,random_state=0)"
      ],
      "metadata": {
        "id": "GnuMOrUVOjT2"
      },
      "execution_count": null,
      "outputs": []
    },
    {
      "cell_type": "code",
      "source": [
        "from sklearn.naive_bayes import BernoulliNB, GaussianNB,CategoricalNB,MultinomialNB\n",
        "\n",
        "naive_bernoulli = BernoulliNB()\n",
        "\n",
        "naive_bernoulli.fit(X_treino,Y_treino)\n",
        "\n",
        "Y_pred_bernoulli = naive_bernoulli.predict(X_teste)\n",
        "\n",
        "acc_bernoulli = accuracy_score(Y_teste,Y_pred_bernoulli)\n",
        "prec_bernoulli = precision_score(Y_teste,Y_pred_bernoulli)\n",
        "rec_bernoulli = recall_score(Y_teste,Y_pred_bernoulli)\n",
        "f1_bernoulli = f1_score(Y_teste,Y_pred_bernoulli)\n",
        "\n",
        "print(\"Acuracia Naive Bernoulli = {:0.2f}\".format(acc_bernoulli))\n",
        "print(\"Precisão Naive Bernoulli = {:0.2f}\".format(prec_bernoulli))\n",
        "print(\"Recall Naive Bernoulli = {:0.2f}\".format(rec_bernoulli))\n",
        "print(\"F1 Naive Bernoulli = {:0.2f}\".format(f1_bernoulli))\n",
        "\n",
        "acc.append(acc_bernoulli)\n",
        "prec.append(prec_bernoulli)\n",
        "rec.append(rec_bernoulli)\n",
        "f1.append(f1_bernoulli)\n",
        "modelos.append(\"Naive-Bayes-Bernoulli\")"
      ],
      "metadata": {
        "colab": {
          "base_uri": "https://localhost:8080/"
        },
        "id": "T0MfXO73NWB5",
        "outputId": "821e7ed8-bfc0-4547-98ce-885e6db86cb1"
      },
      "execution_count": null,
      "outputs": [
        {
          "output_type": "stream",
          "name": "stdout",
          "text": [
            "Acuracia Naive Bernoulli = 0.89\n",
            "Precisão Naive Bernoulli = 0.89\n",
            "Recall Naive Bernoulli = 1.00\n",
            "F1 Naive Bernoulli = 0.94\n"
          ]
        }
      ]
    },
    {
      "cell_type": "code",
      "source": [
        "naive_gaussian = GaussianNB()\n",
        "\n",
        "naive_gaussian.fit(X_treino,Y_treino)\n",
        "\n",
        "Y_pred_gaussian = naive_gaussian.predict(X_teste)\n",
        "\n",
        "acc_gaussian = accuracy_score(Y_teste,Y_pred_gaussian)\n",
        "prec_gaussian = precision_score(Y_teste,Y_pred_gaussian)\n",
        "rec_gaussian = recall_score(Y_teste,Y_pred_gaussian)\n",
        "f1_gaussian = f1_score(Y_teste,Y_pred_gaussian)\n",
        "\n",
        "print(\"Acuracia Naive Gaussian = {:0.2f}\".format(acc_gaussian))\n",
        "print(\"Precisão Naive Gaussian = {:0.2f}\".format(prec_gaussian))\n",
        "print(\"Recall Naive Gaussian = {:0.2f}\".format(rec_gaussian))\n",
        "print(\"F1 Naive Gaussian = {:0.2f}\".format(f1_gaussian))\n",
        "\n",
        "acc.append(acc_gaussian)\n",
        "prec.append(prec_gaussian)\n",
        "rec.append(rec_gaussian)\n",
        "f1.append(f1_gaussian)\n",
        "modelos.append(\"Naive-Bayes_Gaussian\")"
      ],
      "metadata": {
        "colab": {
          "base_uri": "https://localhost:8080/"
        },
        "id": "9necwsk8NghV",
        "outputId": "2431c389-cecf-48c9-f586-d84c039504b9"
      },
      "execution_count": null,
      "outputs": [
        {
          "output_type": "stream",
          "name": "stdout",
          "text": [
            "Acuracia Naive Gaussian = 0.87\n",
            "Precisão Naive Gaussian = 0.89\n",
            "Recall Naive Gaussian = 0.98\n",
            "F1 Naive Gaussian = 0.93\n"
          ]
        }
      ]
    },
    {
      "cell_type": "code",
      "source": [
        "naive_categorical = CategoricalNB()\n",
        "\n",
        "naive_categorical.fit(X_treino,Y_treino)\n",
        "\n",
        "Y_pred_categorical = naive_categorical.predict(X_teste)\n",
        "\n",
        "acc_categorical = accuracy_score(Y_teste,Y_pred_categorical)\n",
        "prec_categorical = precision_score(Y_teste,Y_pred_categorical)\n",
        "rec_categorical = recall_score(Y_teste,Y_pred_categorical)\n",
        "f1_categorical = f1_score(Y_teste,Y_pred_categorical)\n",
        "\n",
        "print(\"Acuracia Naive categorical = {:0.2f}\".format(acc_categorical))\n",
        "print(\"Precisão Naive caregorical = {:0.2f}\".format(prec_categorical))\n",
        "print(\"Recall Naive categoriacal = {:0.2f}\".format(rec_categorical))\n",
        "print(\"F1 Naive categorical = {:0.2f}\".format(f1_categorical))\n",
        "\n",
        "acc.append(acc_categorical)\n",
        "prec.append(prec_categorical)\n",
        "rec.append(rec_categorical)\n",
        "f1.append(f1_categorical)\n",
        "modelos.append(\"Naive-Bayes-Categorical\")\n"
      ],
      "metadata": {
        "colab": {
          "base_uri": "https://localhost:8080/"
        },
        "id": "YYP9o1nMN1a9",
        "outputId": "193237cd-1500-4530-c145-a5d4421e9008"
      },
      "execution_count": null,
      "outputs": [
        {
          "output_type": "stream",
          "name": "stdout",
          "text": [
            "Acuracia Naive categorical = 0.89\n",
            "Precisão Naive caregorical = 0.89\n",
            "Recall Naive categoriacal = 1.00\n",
            "F1 Naive categorical = 0.94\n"
          ]
        }
      ]
    },
    {
      "cell_type": "code",
      "source": [
        "\n",
        "naive_multi = MultinomialNB()\n",
        "\n",
        "naive_multi.fit(X_treino,Y_treino)\n",
        "\n",
        "Y_pred_multi = naive_multi.predict(X_teste)\n",
        "\n",
        "acc_multi = accuracy_score(Y_teste,Y_pred_multi)\n",
        "prec_multi = precision_score(Y_teste,Y_pred_multi)\n",
        "rec_multi = recall_score(Y_teste,Y_pred_multi)\n",
        "f1_multi = f1_score(Y_teste,Y_pred_multi)\n",
        "\n",
        "print(\"Acuracia Naive Multi = {:0.2f}\".format(acc_multi))\n",
        "print(\"Precisão Naive Multi = {:0.2f}\".format(prec_multi))\n",
        "print(\"Recall Naive Multi = {:0.2f}\".format(rec_multi))\n",
        "print(\"F1 Naive Multi = {:0.2f}\".format(f1_multi))\n",
        "\n",
        "acc.append(acc_multi)\n",
        "prec.append(prec_multi)\n",
        "rec.append(rec_multi)\n",
        "f1.append(f1_multi)\n",
        "modelos.append(\"Naive-BayesMultinomial\")\n"
      ],
      "metadata": {
        "colab": {
          "base_uri": "https://localhost:8080/"
        },
        "id": "6HzssaiBN-RD",
        "outputId": "2e3caf6a-6602-486b-c8bc-4a221da87a89"
      },
      "execution_count": null,
      "outputs": [
        {
          "output_type": "stream",
          "name": "stdout",
          "text": [
            "Acuracia Naive Multi = 0.88\n",
            "Precisão Naive Multi = 0.88\n",
            "Recall Naive Multi = 1.00\n",
            "F1 Naive Multi = 0.94\n"
          ]
        }
      ]
    },
    {
      "cell_type": "code",
      "source": [
        "dici = {\"Modelo\" : modelos, \"Acuracia\" : acc, \"Precisao\" : prec, \"Recall\" : rec, \"F1\" : f1}\n",
        "\n",
        "pd_dici = pd.DataFrame(dici)\n",
        "\n",
        "pd_dici = pd_dici.sort_values(by='Recall',ascending=False)\n",
        "\n",
        "pd_dici\n",
        "\n"
      ],
      "metadata": {
        "colab": {
          "base_uri": "https://localhost:8080/",
          "height": 175
        },
        "id": "oET8Ot4vPgxI",
        "outputId": "955ed116-9973-40c2-dd15-e7374a784ee7"
      },
      "execution_count": null,
      "outputs": [
        {
          "output_type": "execute_result",
          "data": {
            "text/plain": [
              "                    Modelo  Acuracia  Precisao    Recall        F1\n",
              "0    Naive-Bayes-Bernoulli  0.887273  0.886447  1.000000  0.939806\n",
              "2  Naive-Bayes-Categorical  0.887273  0.886447  1.000000  0.939806\n",
              "3   Naive-BayesMultinomial  0.880000  0.880000  1.000000  0.936170\n",
              "1     Naive-Bayes_Gaussian  0.870303  0.888331  0.975207  0.929744"
            ],
            "text/html": [
              "\n",
              "  <div id=\"df-84f567d0-38f5-4a5e-a8bc-29efbbc5580d\">\n",
              "    <div class=\"colab-df-container\">\n",
              "      <div>\n",
              "<style scoped>\n",
              "    .dataframe tbody tr th:only-of-type {\n",
              "        vertical-align: middle;\n",
              "    }\n",
              "\n",
              "    .dataframe tbody tr th {\n",
              "        vertical-align: top;\n",
              "    }\n",
              "\n",
              "    .dataframe thead th {\n",
              "        text-align: right;\n",
              "    }\n",
              "</style>\n",
              "<table border=\"1\" class=\"dataframe\">\n",
              "  <thead>\n",
              "    <tr style=\"text-align: right;\">\n",
              "      <th></th>\n",
              "      <th>Modelo</th>\n",
              "      <th>Acuracia</th>\n",
              "      <th>Precisao</th>\n",
              "      <th>Recall</th>\n",
              "      <th>F1</th>\n",
              "    </tr>\n",
              "  </thead>\n",
              "  <tbody>\n",
              "    <tr>\n",
              "      <th>0</th>\n",
              "      <td>Naive-Bayes-Bernoulli</td>\n",
              "      <td>0.887273</td>\n",
              "      <td>0.886447</td>\n",
              "      <td>1.000000</td>\n",
              "      <td>0.939806</td>\n",
              "    </tr>\n",
              "    <tr>\n",
              "      <th>2</th>\n",
              "      <td>Naive-Bayes-Categorical</td>\n",
              "      <td>0.887273</td>\n",
              "      <td>0.886447</td>\n",
              "      <td>1.000000</td>\n",
              "      <td>0.939806</td>\n",
              "    </tr>\n",
              "    <tr>\n",
              "      <th>3</th>\n",
              "      <td>Naive-BayesMultinomial</td>\n",
              "      <td>0.880000</td>\n",
              "      <td>0.880000</td>\n",
              "      <td>1.000000</td>\n",
              "      <td>0.936170</td>\n",
              "    </tr>\n",
              "    <tr>\n",
              "      <th>1</th>\n",
              "      <td>Naive-Bayes_Gaussian</td>\n",
              "      <td>0.870303</td>\n",
              "      <td>0.888331</td>\n",
              "      <td>0.975207</td>\n",
              "      <td>0.929744</td>\n",
              "    </tr>\n",
              "  </tbody>\n",
              "</table>\n",
              "</div>\n",
              "      <button class=\"colab-df-convert\" onclick=\"convertToInteractive('df-84f567d0-38f5-4a5e-a8bc-29efbbc5580d')\"\n",
              "              title=\"Convert this dataframe to an interactive table.\"\n",
              "              style=\"display:none;\">\n",
              "        \n",
              "  <svg xmlns=\"http://www.w3.org/2000/svg\" height=\"24px\"viewBox=\"0 0 24 24\"\n",
              "       width=\"24px\">\n",
              "    <path d=\"M0 0h24v24H0V0z\" fill=\"none\"/>\n",
              "    <path d=\"M18.56 5.44l.94 2.06.94-2.06 2.06-.94-2.06-.94-.94-2.06-.94 2.06-2.06.94zm-11 1L8.5 8.5l.94-2.06 2.06-.94-2.06-.94L8.5 2.5l-.94 2.06-2.06.94zm10 10l.94 2.06.94-2.06 2.06-.94-2.06-.94-.94-2.06-.94 2.06-2.06.94z\"/><path d=\"M17.41 7.96l-1.37-1.37c-.4-.4-.92-.59-1.43-.59-.52 0-1.04.2-1.43.59L10.3 9.45l-7.72 7.72c-.78.78-.78 2.05 0 2.83L4 21.41c.39.39.9.59 1.41.59.51 0 1.02-.2 1.41-.59l7.78-7.78 2.81-2.81c.8-.78.8-2.07 0-2.86zM5.41 20L4 18.59l7.72-7.72 1.47 1.35L5.41 20z\"/>\n",
              "  </svg>\n",
              "      </button>\n",
              "      \n",
              "  <style>\n",
              "    .colab-df-container {\n",
              "      display:flex;\n",
              "      flex-wrap:wrap;\n",
              "      gap: 12px;\n",
              "    }\n",
              "\n",
              "    .colab-df-convert {\n",
              "      background-color: #E8F0FE;\n",
              "      border: none;\n",
              "      border-radius: 50%;\n",
              "      cursor: pointer;\n",
              "      display: none;\n",
              "      fill: #1967D2;\n",
              "      height: 32px;\n",
              "      padding: 0 0 0 0;\n",
              "      width: 32px;\n",
              "    }\n",
              "\n",
              "    .colab-df-convert:hover {\n",
              "      background-color: #E2EBFA;\n",
              "      box-shadow: 0px 1px 2px rgba(60, 64, 67, 0.3), 0px 1px 3px 1px rgba(60, 64, 67, 0.15);\n",
              "      fill: #174EA6;\n",
              "    }\n",
              "\n",
              "    [theme=dark] .colab-df-convert {\n",
              "      background-color: #3B4455;\n",
              "      fill: #D2E3FC;\n",
              "    }\n",
              "\n",
              "    [theme=dark] .colab-df-convert:hover {\n",
              "      background-color: #434B5C;\n",
              "      box-shadow: 0px 1px 3px 1px rgba(0, 0, 0, 0.15);\n",
              "      filter: drop-shadow(0px 1px 2px rgba(0, 0, 0, 0.3));\n",
              "      fill: #FFFFFF;\n",
              "    }\n",
              "  </style>\n",
              "\n",
              "      <script>\n",
              "        const buttonEl =\n",
              "          document.querySelector('#df-84f567d0-38f5-4a5e-a8bc-29efbbc5580d button.colab-df-convert');\n",
              "        buttonEl.style.display =\n",
              "          google.colab.kernel.accessAllowed ? 'block' : 'none';\n",
              "\n",
              "        async function convertToInteractive(key) {\n",
              "          const element = document.querySelector('#df-84f567d0-38f5-4a5e-a8bc-29efbbc5580d');\n",
              "          const dataTable =\n",
              "            await google.colab.kernel.invokeFunction('convertToInteractive',\n",
              "                                                     [key], {});\n",
              "          if (!dataTable) return;\n",
              "\n",
              "          const docLinkHtml = 'Like what you see? Visit the ' +\n",
              "            '<a target=\"_blank\" href=https://colab.research.google.com/notebooks/data_table.ipynb>data table notebook</a>'\n",
              "            + ' to learn more about interactive tables.';\n",
              "          element.innerHTML = '';\n",
              "          dataTable['output_type'] = 'display_data';\n",
              "          await google.colab.output.renderOutput(dataTable, element);\n",
              "          const docLink = document.createElement('div');\n",
              "          docLink.innerHTML = docLinkHtml;\n",
              "          element.appendChild(docLink);\n",
              "        }\n",
              "      </script>\n",
              "    </div>\n",
              "  </div>\n",
              "  "
            ]
          },
          "metadata": {},
          "execution_count": 28
        }
      ]
    },
    {
      "cell_type": "code",
      "source": [
        ""
      ],
      "metadata": {
        "id": "TH-lCBeJOK74"
      },
      "execution_count": null,
      "outputs": []
    }
  ]
}