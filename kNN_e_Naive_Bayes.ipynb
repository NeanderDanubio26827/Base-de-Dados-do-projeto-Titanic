{
  "nbformat": 4,
  "nbformat_minor": 0,
  "metadata": {
    "colab": {
      "name": "kNN e Naive Bayes",
      "provenance": [],
      "include_colab_link": true
    },
    "kernelspec": {
      "name": "python3",
      "display_name": "Python 3"
    }
  },
  "cells": [
    {
      "cell_type": "markdown",
      "metadata": {
        "id": "view-in-github",
        "colab_type": "text"
      },
      "source": [
        "<a href=\"https://colab.research.google.com/github/NeanderDanubio26827/BaseDeDadosTitanic/blob/main/kNN_e_Naive_Bayes.ipynb\" target=\"_parent\"><img src=\"https://colab.research.google.com/assets/colab-badge.svg\" alt=\"Open In Colab\"/></a>"
      ]
    },
    {
      "cell_type": "markdown",
      "metadata": {
        "id": "8vWRpP8NtXDs"
      },
      "source": [
        "# Aprendizado Baseado em Instâncias\n",
        "\n",
        "[![made-with-python](https://img.shields.io/badge/Made%20with-Python-1f425f.svg)](https://www.python.org/)  [![made-with-latex](https://img.shields.io/badge/Made%20with-LaTeX-1f425f.svg)](https://www.latex-project.org/) \n",
        "\n",
        "[![ForTheBadge built-with-love](http://ForTheBadge.com/images/badges/built-with-love.svg)](https://GitHub.com/Naereen/) [![ForTheBadge built-with-science](http://ForTheBadge.com/images/badges/built-with-science.svg)](https://GitHub.com/Naereen/)\n",
        "\n",
        "<a href=\"http://petroniocandido.github.io\">Prof. Dr. Petrônio Cândido de Lima e Silva</a> <span itemscope itemtype=\"https://schema.org/Person\"><a itemprop=\"sameAs\" content=\"https://orcid.org/0000-0002-1202-2552\" href=\"https://orcid.org/0000-0002-1202-2552\" target=\"orcid.widget\" rel=\"noopener noreferrer\" style=\"vertical-align:top;\"><img src=\"https://orcid.org/sites/default/files/images/orcid_16x16.png\" style=\"width:1em;margin-right:.5em;\" alt=\"ORCID iD icon\"></a></span> (petronio.candido@ifnmg.edu.br)\n",
        "\n",
        "$\\{ci\\partial ic\\}$ - Grupo de Pesquisa em Ciência de Dados e Inteligência Computacional\n",
        "\n",
        "IFNMG - Instituto Federal de Educação, Ciência e Tecnologia do Norte de Minas Gerais\n",
        "\n",
        "\n",
        "\n",
        "<center>\n",
        "  <table><tr>\n",
        "<td><a href=\"http://cidic.ifnmg.edu.br/wordpress/\"><img src=\"https://avatars1.githubusercontent.com/u/54992196?s=400&u=4c96d4fc0560b6957233f1dd91a9560de4a054b2&v=4\" alt=\"{cidic} - Grupo de Pesquisa em Ciência de Dados e Inteligência Computacional\" width=\"100\"/></a></td> \n",
        "\n",
        " <td>&nbsp;&nbsp;&nbsp;&nbsp;&nbsp;&nbsp;&nbsp;&nbsp;&nbsp;</td>\n",
        "  \n",
        "<td>\n",
        "   <a href=\"http://www.ifnmg.edu.br/\"><img src=\"https://github.com/petroniocandido/PhdThesis/raw/master/figures/ifnmg.jpg\" alt=\"IFNMG - Instituto Federal do Norte de Minas Gerais\" width=\"100\"/></a></td>\n",
        "</tr>\n",
        "</table>\n",
        "</center>\n",
        "\n",
        "[![licensebuttons by-nc-sa](https://licensebuttons.net/l/by-nc-sa/3.0/88x31.png)](https://creativecommons.org/licenses/by-nc-sa/4.0) \n"
      ]
    },
    {
      "cell_type": "markdown",
      "metadata": {
        "id": "2I_f5OQ9tpMf"
      },
      "source": [
        "## Importações comuns"
      ]
    },
    {
      "cell_type": "code",
      "metadata": {
        "id": "GX3gtvBctReX"
      },
      "source": [
        "import numpy as np\n",
        "import pandas as pd\n",
        "import matplotlib.pyplot as plt"
      ],
      "execution_count": null,
      "outputs": []
    },
    {
      "cell_type": "code",
      "source": [
        ""
      ],
      "metadata": {
        "id": "iYB-H7MItNjr"
      },
      "execution_count": null,
      "outputs": []
    },
    {
      "cell_type": "markdown",
      "metadata": {
        "id": "ZDB4iI64trrI"
      },
      "source": [
        "## Dados Titanic\n",
        "\n",
        "O dataset Titanic contém 5 atributos (Nome, Classe, Idade, Sexo, Sobreviveu) com 1313 instâncias, cada uma representando um dos passageiros ou tripulantes do <a href=\"https://pt.wikipedia.org/wiki/RMS_Titanic\">RMS Titanic</a> que naufragou no Oceano Atlântico em  15 de abril de 1912.\n",
        "\n",
        "Com esses dados queremos inferir se uma determinada pessoa sobreviveu ou não ao naufrágio( $y = \\{$Sobreviveu$\\}$ ), usando como base os atributos descritivos $x = \\{$Classe, Idade, Sexo$\\}$. Logo o problema em questão é de Classificação, e o atributo alvo Sobreviveu contém apenas duas classes: 1, se a pessoa sobreviveu e 0, se a pessoa não sobreviveu."
      ]
    },
    {
      "cell_type": "markdown",
      "metadata": {
        "id": "icqOOFMd_kPy"
      },
      "source": [
        "### Carregamento dos dados"
      ]
    },
    {
      "cell_type": "code",
      "metadata": {
        "colab": {
          "base_uri": "https://localhost:8080/",
          "height": 206
        },
        "id": "arry7rcBtmHG",
        "outputId": "3a95c65a-929d-49f8-c0b1-88c1df9f5120"
      },
      "source": [
        "df = pd.read_csv('https://query.data.world/s/c2ixg24yogu6pgudqodbhn5ynrvdjr')\n",
        "df.head()"
      ],
      "execution_count": null,
      "outputs": [
        {
          "output_type": "execute_result",
          "data": {
            "text/html": [
              "<div>\n",
              "<style scoped>\n",
              "    .dataframe tbody tr th:only-of-type {\n",
              "        vertical-align: middle;\n",
              "    }\n",
              "\n",
              "    .dataframe tbody tr th {\n",
              "        vertical-align: top;\n",
              "    }\n",
              "\n",
              "    .dataframe thead th {\n",
              "        text-align: right;\n",
              "    }\n",
              "</style>\n",
              "<table border=\"1\" class=\"dataframe\">\n",
              "  <thead>\n",
              "    <tr style=\"text-align: right;\">\n",
              "      <th></th>\n",
              "      <th>Nome</th>\n",
              "      <th>Classe</th>\n",
              "      <th>Idade</th>\n",
              "      <th>Sexo</th>\n",
              "      <th>Sobreviveu</th>\n",
              "    </tr>\n",
              "  </thead>\n",
              "  <tbody>\n",
              "    <tr>\n",
              "      <th>0</th>\n",
              "      <td>Allen, Miss Elisabeth Walton</td>\n",
              "      <td>1.0</td>\n",
              "      <td>29.00</td>\n",
              "      <td>F</td>\n",
              "      <td>1</td>\n",
              "    </tr>\n",
              "    <tr>\n",
              "      <th>1</th>\n",
              "      <td>Allison, Miss Helen Loraine</td>\n",
              "      <td>1.0</td>\n",
              "      <td>2.00</td>\n",
              "      <td>F</td>\n",
              "      <td>0</td>\n",
              "    </tr>\n",
              "    <tr>\n",
              "      <th>2</th>\n",
              "      <td>Allison, Mr Hudson Joshua Creighton</td>\n",
              "      <td>1.0</td>\n",
              "      <td>30.00</td>\n",
              "      <td>M</td>\n",
              "      <td>0</td>\n",
              "    </tr>\n",
              "    <tr>\n",
              "      <th>3</th>\n",
              "      <td>Allison, Mrs Hudson JC (Bessie Waldo Daniels)</td>\n",
              "      <td>1.0</td>\n",
              "      <td>25.00</td>\n",
              "      <td>F</td>\n",
              "      <td>0</td>\n",
              "    </tr>\n",
              "    <tr>\n",
              "      <th>4</th>\n",
              "      <td>Allison, Master Hudson Trevor</td>\n",
              "      <td>1.0</td>\n",
              "      <td>0.92</td>\n",
              "      <td>M</td>\n",
              "      <td>1</td>\n",
              "    </tr>\n",
              "  </tbody>\n",
              "</table>\n",
              "</div>"
            ],
            "text/plain": [
              "                                            Nome  Classe  ...  Sexo Sobreviveu\n",
              "0                   Allen, Miss Elisabeth Walton     1.0  ...     F          1\n",
              "1                    Allison, Miss Helen Loraine     1.0  ...     F          0\n",
              "2            Allison, Mr Hudson Joshua Creighton     1.0  ...     M          0\n",
              "3  Allison, Mrs Hudson JC (Bessie Waldo Daniels)     1.0  ...     F          0\n",
              "4                  Allison, Master Hudson Trevor     1.0  ...     M          1\n",
              "\n",
              "[5 rows x 5 columns]"
            ]
          },
          "metadata": {
            "tags": []
          },
          "execution_count": 92
        }
      ]
    },
    {
      "cell_type": "code",
      "metadata": {
        "colab": {
          "base_uri": "https://localhost:8080/"
        },
        "id": "181OHOzUw6OY",
        "outputId": "9a4510f6-baee-42de-9f56-7ba4db159b79"
      },
      "source": [
        "len(df.index)"
      ],
      "execution_count": null,
      "outputs": [
        {
          "output_type": "execute_result",
          "data": {
            "text/plain": [
              "1313"
            ]
          },
          "metadata": {
            "tags": []
          },
          "execution_count": 29
        }
      ]
    },
    {
      "cell_type": "markdown",
      "metadata": {
        "id": "IETJ4PMluKz0"
      },
      "source": [
        "### Criando o atributo 'FaixaEtaria'\n",
        "\n",
        "A fim de simplificar nossas análises, vamos discretizer o atributo numério *Idade*, transformando-o em no atributo categórico *FaixaEtaria*, contendo as seguintes classes conforme o intervalo de idades:\n",
        "\n",
        "* 0-10: Criança\n",
        "* 11-18: Jovem\n",
        "* 19-50: Adulto\n",
        "* +50: Idoso\n",
        "* Não Conhecida"
      ]
    },
    {
      "cell_type": "code",
      "metadata": {
        "colab": {
          "base_uri": "https://localhost:8080/"
        },
        "id": "Fv6FTZoUt6Ij",
        "outputId": "e1813401-c4fe-48ab-ce36-3c93054105d1"
      },
      "source": [
        "df['Idade'].unique()"
      ],
      "execution_count": null,
      "outputs": [
        {
          "output_type": "execute_result",
          "data": {
            "text/plain": [
              "array([29.  ,  2.  , 30.  , 25.  ,  0.92, 47.  , 63.  , 39.  , 58.  ,\n",
              "       71.  , 19.  ,   nan, 50.  , 24.  , 36.  , 37.  , 26.  , 28.  ,\n",
              "       45.  , 22.  , 41.  , 48.  , 44.  , 59.  , 60.  , 53.  , 33.  ,\n",
              "       14.  , 11.  , 49.  , 46.  , 27.  , 31.  , 64.  , 55.  , 70.  ,\n",
              "       69.  , 38.  , 17.  ,  4.  , 23.  , 35.  , 54.  , 21.  , 52.  ,\n",
              "       16.  , 51.  , 42.  , 40.  , 15.  , 65.  , 18.  , 56.  , 43.  ,\n",
              "       61.  , 13.  , 34.  ,  6.  , 57.  , 32.  , 62.  , 67.  , 20.  ,\n",
              "        1.  , 12.  ,  0.83,  8.  ,  7.  ,  3.  ,  0.8 ,  9.  ,  5.  ,\n",
              "        0.33,  0.17, 10.  ,  1.5 ])"
            ]
          },
          "metadata": {
            "tags": []
          },
          "execution_count": 30
        }
      ]
    },
    {
      "cell_type": "code",
      "metadata": {
        "colab": {
          "base_uri": "https://localhost:8080/",
          "height": 36
        },
        "id": "nVqYy3HpuEJJ",
        "outputId": "ac314a5f-d3d6-452e-abe8-c5918267450a"
      },
      "source": [
        "# Função que transforma uma idade em uma faixa etária.\n",
        "\n",
        "def faixa_etaria(idade):\n",
        "  if idade == np.nan:\n",
        "    return 'NaoConhecida'\n",
        "  elif 0.0 <= idade <= 10.0:\n",
        "    return 'Crianca'\n",
        "  elif 11.0 <= idade <= 18.0:\n",
        "    return 'Jovem'\n",
        "  elif 19.0 <= idade <= 50.0:\n",
        "    return 'Adulto'\n",
        "  else:\n",
        "    return 'Idoso'\n",
        "\n",
        "faixa_etaria(24.13)"
      ],
      "execution_count": null,
      "outputs": [
        {
          "output_type": "execute_result",
          "data": {
            "application/vnd.google.colaboratory.intrinsic+json": {
              "type": "string"
            },
            "text/plain": [
              "'Adulto'"
            ]
          },
          "metadata": {
            "tags": []
          },
          "execution_count": 91
        }
      ]
    },
    {
      "cell_type": "code",
      "metadata": {
        "id": "0v8TU-0svONj"
      },
      "source": [
        "# Criando o atributo faixa etária e associando à ele uma \n",
        "# lista com os valores de faixa etária para cada valor de idade\n",
        " \n",
        "df['FaixaEtaria'] = [faixa_etaria(k) for k in df['Idade'].values]"
      ],
      "execution_count": null,
      "outputs": []
    },
    {
      "cell_type": "code",
      "metadata": {
        "colab": {
          "base_uri": "https://localhost:8080/",
          "height": 206
        },
        "id": "4JGKpdNdvudi",
        "outputId": "e1ebf384-23e5-42cf-987f-e9941680e032"
      },
      "source": [
        "df.head()"
      ],
      "execution_count": null,
      "outputs": [
        {
          "output_type": "execute_result",
          "data": {
            "text/html": [
              "<div>\n",
              "<style scoped>\n",
              "    .dataframe tbody tr th:only-of-type {\n",
              "        vertical-align: middle;\n",
              "    }\n",
              "\n",
              "    .dataframe tbody tr th {\n",
              "        vertical-align: top;\n",
              "    }\n",
              "\n",
              "    .dataframe thead th {\n",
              "        text-align: right;\n",
              "    }\n",
              "</style>\n",
              "<table border=\"1\" class=\"dataframe\">\n",
              "  <thead>\n",
              "    <tr style=\"text-align: right;\">\n",
              "      <th></th>\n",
              "      <th>Nome</th>\n",
              "      <th>Classe</th>\n",
              "      <th>Idade</th>\n",
              "      <th>Sexo</th>\n",
              "      <th>Sobreviveu</th>\n",
              "      <th>FaixaEtaria</th>\n",
              "    </tr>\n",
              "  </thead>\n",
              "  <tbody>\n",
              "    <tr>\n",
              "      <th>0</th>\n",
              "      <td>Allen, Miss Elisabeth Walton</td>\n",
              "      <td>1.0</td>\n",
              "      <td>29.00</td>\n",
              "      <td>F</td>\n",
              "      <td>1</td>\n",
              "      <td>Adulto</td>\n",
              "    </tr>\n",
              "    <tr>\n",
              "      <th>1</th>\n",
              "      <td>Allison, Miss Helen Loraine</td>\n",
              "      <td>1.0</td>\n",
              "      <td>2.00</td>\n",
              "      <td>F</td>\n",
              "      <td>0</td>\n",
              "      <td>Crianca</td>\n",
              "    </tr>\n",
              "    <tr>\n",
              "      <th>2</th>\n",
              "      <td>Allison, Mr Hudson Joshua Creighton</td>\n",
              "      <td>1.0</td>\n",
              "      <td>30.00</td>\n",
              "      <td>M</td>\n",
              "      <td>0</td>\n",
              "      <td>Adulto</td>\n",
              "    </tr>\n",
              "    <tr>\n",
              "      <th>3</th>\n",
              "      <td>Allison, Mrs Hudson JC (Bessie Waldo Daniels)</td>\n",
              "      <td>1.0</td>\n",
              "      <td>25.00</td>\n",
              "      <td>F</td>\n",
              "      <td>0</td>\n",
              "      <td>Adulto</td>\n",
              "    </tr>\n",
              "    <tr>\n",
              "      <th>4</th>\n",
              "      <td>Allison, Master Hudson Trevor</td>\n",
              "      <td>1.0</td>\n",
              "      <td>0.92</td>\n",
              "      <td>M</td>\n",
              "      <td>1</td>\n",
              "      <td>Crianca</td>\n",
              "    </tr>\n",
              "  </tbody>\n",
              "</table>\n",
              "</div>"
            ],
            "text/plain": [
              "                                            Nome  ...  FaixaEtaria\n",
              "0                   Allen, Miss Elisabeth Walton  ...       Adulto\n",
              "1                    Allison, Miss Helen Loraine  ...      Crianca\n",
              "2            Allison, Mr Hudson Joshua Creighton  ...       Adulto\n",
              "3  Allison, Mrs Hudson JC (Bessie Waldo Daniels)  ...       Adulto\n",
              "4                  Allison, Master Hudson Trevor  ...      Crianca\n",
              "\n",
              "[5 rows x 6 columns]"
            ]
          },
          "metadata": {
            "tags": []
          },
          "execution_count": 96
        }
      ]
    },
    {
      "cell_type": "markdown",
      "metadata": {
        "id": "lKYWp7cm_r9i"
      },
      "source": [
        "### Seleção de atributos\n",
        "\n",
        "Excluiremos do DataFrame os atributos *Nome* e *Idade* pois não serão úteis em nossa análises daqui para a frente, mantendo os atributos *Classe*, *Sexo*, *FaixaEtaria* e *Sobreviveu*."
      ]
    },
    {
      "cell_type": "code",
      "metadata": {
        "colab": {
          "base_uri": "https://localhost:8080/",
          "height": 424
        },
        "id": "iF0AS30zKSDf",
        "outputId": "4bdbea0f-cae3-4690-e12e-b3a4d8b3d30f"
      },
      "source": [
        "lista_atributos = ['Idade','Sexo']\n",
        "df[lista_atributos]"
      ],
      "execution_count": null,
      "outputs": [
        {
          "output_type": "execute_result",
          "data": {
            "text/html": [
              "<div>\n",
              "<style scoped>\n",
              "    .dataframe tbody tr th:only-of-type {\n",
              "        vertical-align: middle;\n",
              "    }\n",
              "\n",
              "    .dataframe tbody tr th {\n",
              "        vertical-align: top;\n",
              "    }\n",
              "\n",
              "    .dataframe thead th {\n",
              "        text-align: right;\n",
              "    }\n",
              "</style>\n",
              "<table border=\"1\" class=\"dataframe\">\n",
              "  <thead>\n",
              "    <tr style=\"text-align: right;\">\n",
              "      <th></th>\n",
              "      <th>Idade</th>\n",
              "      <th>Sexo</th>\n",
              "    </tr>\n",
              "  </thead>\n",
              "  <tbody>\n",
              "    <tr>\n",
              "      <th>0</th>\n",
              "      <td>29.00</td>\n",
              "      <td>F</td>\n",
              "    </tr>\n",
              "    <tr>\n",
              "      <th>1</th>\n",
              "      <td>2.00</td>\n",
              "      <td>F</td>\n",
              "    </tr>\n",
              "    <tr>\n",
              "      <th>2</th>\n",
              "      <td>30.00</td>\n",
              "      <td>M</td>\n",
              "    </tr>\n",
              "    <tr>\n",
              "      <th>3</th>\n",
              "      <td>25.00</td>\n",
              "      <td>F</td>\n",
              "    </tr>\n",
              "    <tr>\n",
              "      <th>4</th>\n",
              "      <td>0.92</td>\n",
              "      <td>M</td>\n",
              "    </tr>\n",
              "    <tr>\n",
              "      <th>...</th>\n",
              "      <td>...</td>\n",
              "      <td>...</td>\n",
              "    </tr>\n",
              "    <tr>\n",
              "      <th>1308</th>\n",
              "      <td>27.00</td>\n",
              "      <td>M</td>\n",
              "    </tr>\n",
              "    <tr>\n",
              "      <th>1309</th>\n",
              "      <td>26.00</td>\n",
              "      <td>M</td>\n",
              "    </tr>\n",
              "    <tr>\n",
              "      <th>1310</th>\n",
              "      <td>22.00</td>\n",
              "      <td>M</td>\n",
              "    </tr>\n",
              "    <tr>\n",
              "      <th>1311</th>\n",
              "      <td>24.00</td>\n",
              "      <td>M</td>\n",
              "    </tr>\n",
              "    <tr>\n",
              "      <th>1312</th>\n",
              "      <td>29.00</td>\n",
              "      <td>M</td>\n",
              "    </tr>\n",
              "  </tbody>\n",
              "</table>\n",
              "<p>1313 rows × 2 columns</p>\n",
              "</div>"
            ],
            "text/plain": [
              "      Idade Sexo\n",
              "0     29.00    F\n",
              "1      2.00    F\n",
              "2     30.00    M\n",
              "3     25.00    F\n",
              "4      0.92    M\n",
              "...     ...  ...\n",
              "1308  27.00    M\n",
              "1309  26.00    M\n",
              "1310  22.00    M\n",
              "1311  24.00    M\n",
              "1312  29.00    M\n",
              "\n",
              "[1313 rows x 2 columns]"
            ]
          },
          "metadata": {
            "tags": []
          },
          "execution_count": 98
        }
      ]
    },
    {
      "cell_type": "code",
      "metadata": {
        "id": "VoN5uXbCv8z4"
      },
      "source": [
        "df = df[['Classe', 'Sexo','FaixaEtaria','Sobreviveu']]"
      ],
      "execution_count": null,
      "outputs": []
    },
    {
      "cell_type": "code",
      "metadata": {
        "colab": {
          "base_uri": "https://localhost:8080/",
          "height": 206
        },
        "id": "86g70e3uwSsq",
        "outputId": "1b18391a-8193-4aaa-9d36-00d2a055148f"
      },
      "source": [
        "df.head()"
      ],
      "execution_count": null,
      "outputs": [
        {
          "output_type": "execute_result",
          "data": {
            "text/html": [
              "<div>\n",
              "<style scoped>\n",
              "    .dataframe tbody tr th:only-of-type {\n",
              "        vertical-align: middle;\n",
              "    }\n",
              "\n",
              "    .dataframe tbody tr th {\n",
              "        vertical-align: top;\n",
              "    }\n",
              "\n",
              "    .dataframe thead th {\n",
              "        text-align: right;\n",
              "    }\n",
              "</style>\n",
              "<table border=\"1\" class=\"dataframe\">\n",
              "  <thead>\n",
              "    <tr style=\"text-align: right;\">\n",
              "      <th></th>\n",
              "      <th>Classe</th>\n",
              "      <th>Sexo</th>\n",
              "      <th>FaixaEtaria</th>\n",
              "      <th>Sobreviveu</th>\n",
              "    </tr>\n",
              "  </thead>\n",
              "  <tbody>\n",
              "    <tr>\n",
              "      <th>0</th>\n",
              "      <td>1.0</td>\n",
              "      <td>F</td>\n",
              "      <td>Adulto</td>\n",
              "      <td>1</td>\n",
              "    </tr>\n",
              "    <tr>\n",
              "      <th>1</th>\n",
              "      <td>1.0</td>\n",
              "      <td>F</td>\n",
              "      <td>Crianca</td>\n",
              "      <td>0</td>\n",
              "    </tr>\n",
              "    <tr>\n",
              "      <th>2</th>\n",
              "      <td>1.0</td>\n",
              "      <td>M</td>\n",
              "      <td>Adulto</td>\n",
              "      <td>0</td>\n",
              "    </tr>\n",
              "    <tr>\n",
              "      <th>3</th>\n",
              "      <td>1.0</td>\n",
              "      <td>F</td>\n",
              "      <td>Adulto</td>\n",
              "      <td>0</td>\n",
              "    </tr>\n",
              "    <tr>\n",
              "      <th>4</th>\n",
              "      <td>1.0</td>\n",
              "      <td>M</td>\n",
              "      <td>Crianca</td>\n",
              "      <td>1</td>\n",
              "    </tr>\n",
              "  </tbody>\n",
              "</table>\n",
              "</div>"
            ],
            "text/plain": [
              "   Classe Sexo FaixaEtaria  Sobreviveu\n",
              "0     1.0    F      Adulto           1\n",
              "1     1.0    F     Crianca           0\n",
              "2     1.0    M      Adulto           0\n",
              "3     1.0    F      Adulto           0\n",
              "4     1.0    M     Crianca           1"
            ]
          },
          "metadata": {
            "tags": []
          },
          "execution_count": 100
        }
      ]
    },
    {
      "cell_type": "code",
      "metadata": {
        "colab": {
          "base_uri": "https://localhost:8080/"
        },
        "id": "XddoUL9lwxYl",
        "outputId": "f86a8959-4823-43a6-df78-9a72ac1beb05"
      },
      "source": [
        "df.loc[56]"
      ],
      "execution_count": null,
      "outputs": [
        {
          "output_type": "execute_result",
          "data": {
            "text/plain": [
              "Classe              1\n",
              "Sexo                F\n",
              "FaixaEtaria    Adulto\n",
              "Sobreviveu          1\n",
              "Name: 56, dtype: object"
            ]
          },
          "metadata": {
            "tags": []
          },
          "execution_count": 101
        }
      ]
    },
    {
      "cell_type": "markdown",
      "metadata": {
        "id": "uDOM6hGSSMfV"
      },
      "source": [
        "### Amostrando os conjuntos de Treino e de Teste\n",
        "\n",
        "A fim de investigar o poder de generalização dos métodos estudados, vamos separar os dados em dois conjuntos:\n",
        "\n",
        "* **Conjunto de Treino**: Contém 70% dos dados originais e será utilizado no processo de inferência\n",
        "* **Conjunto de Teste**: Contém 30% dos dados originais e será utilizado "
      ]
    },
    {
      "cell_type": "code",
      "metadata": {
        "id": "OdThU6ZnSQSL"
      },
      "source": [
        "total = len(df.index)\n",
        "\n",
        "treino = df.iloc[: int(total * 0.7)]\n",
        "teste = df.iloc[ int(total * 0.7)+1 :]"
      ],
      "execution_count": null,
      "outputs": []
    },
    {
      "cell_type": "code",
      "metadata": {
        "colab": {
          "base_uri": "https://localhost:8080/"
        },
        "id": "DQgJd1l66Hcm",
        "outputId": "0f33bda2-581b-4652-d5b0-cf258e57b57e"
      },
      "source": [
        "treino.index"
      ],
      "execution_count": null,
      "outputs": [
        {
          "output_type": "execute_result",
          "data": {
            "text/plain": [
              "RangeIndex(start=0, stop=919, step=1)"
            ]
          },
          "metadata": {
            "tags": []
          },
          "execution_count": 106
        }
      ]
    },
    {
      "cell_type": "code",
      "metadata": {
        "colab": {
          "base_uri": "https://localhost:8080/"
        },
        "id": "2oMoKaDILwJc",
        "outputId": "08cb68d6-1b60-46d7-bfaa-a8dc62b9afc9"
      },
      "source": [
        "teste.index"
      ],
      "execution_count": null,
      "outputs": [
        {
          "output_type": "execute_result",
          "data": {
            "text/plain": [
              "RangeIndex(start=920, stop=1313, step=1)"
            ]
          },
          "metadata": {
            "tags": []
          },
          "execution_count": 107
        }
      ]
    },
    {
      "cell_type": "markdown",
      "metadata": {
        "id": "bITTxFVKxOlB"
      },
      "source": [
        "## Matriz de Confusão e Acurácia\n",
        "\n",
        "A matriz de confução contém os valores:\n",
        "* $TP$ - Verdadeiros Positivos\n",
        "* $FP$ - Falsos Positivos\n",
        "* $TN$ - Verdadeiros Negativos\n",
        "* $FN$ - Falsos Negativos \n",
        "\n",
        "Com esses valores definimos a métrica de Acurácia $A_c \\in [0,1]$, tal que:\n",
        "$$\n",
        "A_c = \\frac{TP + TN}{TP + FP + TN + FN}\n",
        "$$"
      ]
    },
    {
      "cell_type": "code",
      "metadata": {
        "colab": {
          "base_uri": "https://localhost:8080/"
        },
        "id": "3KW-ozRRStbc",
        "outputId": "358ef155-8689-4358-89e9-aff5568d5ff7"
      },
      "source": [
        "def matriz_confusao(esperados, estimados):\n",
        "  tp, fp, tn, fn = 0,0,0,0\n",
        "  for par in zip(esperados, estimados):\n",
        "    if par[0] and par[1]:\n",
        "      tp += 1\n",
        "    elif par[0] and not par[1]:\n",
        "      fn += 1\n",
        "    elif not par[0] and not par[1]:\n",
        "      tn += 1\n",
        "    elif not par[0] and par[1]:\n",
        "      fp += 1\n",
        "  return np.array([tp, fp, tn, fn])\n",
        "\n",
        "\n",
        "def acuracia(esperados, estimados):\n",
        "  n = len(esperados)\n",
        "  tp, fp, tn, fn = matriz_confusao(esperados, estimados)\n",
        "  return (tp + tn) / n\n",
        "\n",
        "esperados = [0,0,0,0]\n",
        "estimados = [1,0,0,1]\n",
        "acuracia(esperados, estimados)"
      ],
      "execution_count": null,
      "outputs": [
        {
          "output_type": "execute_result",
          "data": {
            "text/plain": [
              "0.5"
            ]
          },
          "metadata": {
            "tags": []
          },
          "execution_count": 111
        }
      ]
    },
    {
      "cell_type": "markdown",
      "metadata": {
        "id": "aW0QcFo7wi4v"
      },
      "source": [
        "## k-Vizinhos Mais Próximos"
      ]
    },
    {
      "cell_type": "markdown",
      "metadata": {
        "id": "cVYWLlZE_wB0"
      },
      "source": [
        "### Função de Distância\n",
        "\n",
        "Uma função de distância $d:\\mathbb{R}^n,\\mathbb{R}^n \\rightarrow \\mathbb{R}^+$ é uma função que calcula a similaridade de dois vetores $a \\in \\mathbb{R}^n$ e $b \\in \\mathbb{R}^n$ através de sua distância no espaço $\\mathbb{R}^n$.\n",
        "\n",
        "No caso de instâncias em que os valores não são reais, mas categóricos, uma função de distância comum é a <a href=\"https://pt.wikipedia.org/wiki/Dist%C3%A2ncia_de_Hamming\">Distância de Hamming</a>. Que pode ser definida como:\n",
        "$$\n",
        "d(a,b) = \\sum_{i = 0}^n \\mathbb{I}(a[i] \\neq b[i])\n",
        "$$ \n",
        "\n",
        "Onde $\\mathbb{I}($expressão$)\\{1$ se expressão for verdadeira e $ 0 $ se for falsa $\\}$ é a função indicadora.\n",
        "\n",
        "Na nossa implementação a Distância de Hamming é normalizada no intervalo $[0,1]$."
      ]
    },
    {
      "cell_type": "code",
      "metadata": {
        "colab": {
          "base_uri": "https://localhost:8080/"
        },
        "id": "wh-CTeJKwcE0",
        "outputId": "15fa82c9-d327-4371-881f-d1a1b4e4ca73"
      },
      "source": [
        "# Função de distância para atributos qualitativos\n",
        "# A e B são duas variáveis dicionários \n",
        "\n",
        "def distancia_hamming(a,b):\n",
        "  chaves = a.keys()\n",
        "  \n",
        "  distancia = sum([a[k] != b[k] for k in chaves])\n",
        "  \n",
        "  return distancia / len(chaves)\n",
        "\n",
        "# Quando A e B são IDÊNTICOS então a distância == 0\n",
        "# Quando A e B são COMPLETAMENTE diferentes, então a distância == 1\n",
        "# Quando A e B são PARCIALMENTE diferentes, então a distância está entre 0 e 1\n",
        "\n",
        "\n",
        "distancia_hamming({'a':1, 'b': 0, 'c': 1}, {'a': 0, 'b': 1, 'c': 0})\n"
      ],
      "execution_count": null,
      "outputs": [
        {
          "output_type": "execute_result",
          "data": {
            "text/plain": [
              "1.0"
            ]
          },
          "metadata": {
            "tags": []
          },
          "execution_count": 118
        }
      ]
    },
    {
      "cell_type": "code",
      "metadata": {
        "colab": {
          "base_uri": "https://localhost:8080/"
        },
        "id": "o-FL-mmxxwLe",
        "outputId": "4d3e1bed-f769-43a2-9547-085cfa47cb57"
      },
      "source": [
        "print('1º Passageiro\\n', df.iloc[1])\n",
        "print('2º Passageiro\\n', df.iloc[2])\n",
        "print('\\nDistância:', distancia_hamming( df.iloc[1], df.iloc[2]))"
      ],
      "execution_count": null,
      "outputs": [
        {
          "output_type": "stream",
          "text": [
            "1º Passageiro\n",
            " Classe               1\n",
            "Sexo                 F\n",
            "FaixaEtaria    Crianca\n",
            "Sobreviveu           0\n",
            "Name: 1, dtype: object\n",
            "2º Passageiro\n",
            " Classe              1\n",
            "Sexo                M\n",
            "FaixaEtaria    Adulto\n",
            "Sobreviveu          0\n",
            "Name: 2, dtype: object\n",
            "\n",
            "Distância: 0.5\n"
          ],
          "name": "stdout"
        }
      ]
    },
    {
      "cell_type": "markdown",
      "metadata": {
        "id": "sWvVQVaO_2bY"
      },
      "source": [
        "### Função de Mesclagem"
      ]
    },
    {
      "cell_type": "code",
      "metadata": {
        "colab": {
          "base_uri": "https://localhost:8080/"
        },
        "id": "k2okHiqNPsLH",
        "outputId": "87bf2479-d4bc-4e65-e576-03d9eb2cd40f"
      },
      "source": [
        "from collections import Counter\n",
        "\n",
        "Counter([0,1,1,0,0,0,1])"
      ],
      "execution_count": null,
      "outputs": [
        {
          "output_type": "execute_result",
          "data": {
            "text/plain": [
              "Counter({0: 4, 1: 3})"
            ]
          },
          "metadata": {
            "tags": []
          },
          "execution_count": 121
        }
      ]
    },
    {
      "cell_type": "code",
      "metadata": {
        "colab": {
          "base_uri": "https://localhost:8080/"
        },
        "id": "FqPsBJgPQ6T0",
        "outputId": "d3c56542-c63c-4a31-d60d-acaf1e1ba94c"
      },
      "source": [
        "from collections import Counter\n",
        "\n",
        "def mais_frequente(array):\n",
        "  frequencias = Counter(array)\n",
        "  return max(frequencias, key=frequencias.get)\n",
        "\n",
        "mais_frequente([1,0,1,0,0,1,0])"
      ],
      "execution_count": null,
      "outputs": [
        {
          "output_type": "execute_result",
          "data": {
            "text/plain": [
              "0"
            ]
          },
          "metadata": {
            "tags": []
          },
          "execution_count": 128
        }
      ]
    },
    {
      "cell_type": "markdown",
      "metadata": {
        "id": "llM6vGdZRyas"
      },
      "source": [
        "### Calculando e ordenando as distâncias"
      ]
    },
    {
      "cell_type": "code",
      "metadata": {
        "id": "TPQ4peeOC_zd"
      },
      "source": [
        "x = {'Sexo': 'M', 'FaixaEtaria':'Adulto', 'Classe':3.0}"
      ],
      "execution_count": null,
      "outputs": []
    },
    {
      "cell_type": "code",
      "metadata": {
        "id": "PgPHpDuXCyZx"
      },
      "source": [
        "# Calcular as distâncias\n",
        "distancias = { indice : distancia_hamming(x, treino.loc[indice]) for indice in treino.index }\n",
        "\n",
        "distancias"
      ],
      "execution_count": null,
      "outputs": []
    },
    {
      "cell_type": "code",
      "metadata": {
        "id": "EqlE9aHqRowB"
      },
      "source": [
        "# Ordenar as distâncias\n",
        "indices = sorted(distancias, key=distancias.get)\n",
        "\n",
        "indices"
      ],
      "execution_count": null,
      "outputs": []
    },
    {
      "cell_type": "markdown",
      "metadata": {
        "id": "TzmJeODnR4pp"
      },
      "source": [
        "### Selecionando os k vizinhos mais próximos e mesclando os valores"
      ]
    },
    {
      "cell_type": "code",
      "metadata": {
        "colab": {
          "base_uri": "https://localhost:8080/",
          "height": 143
        },
        "id": "-LVooJuXEcS8",
        "outputId": "7aac6f39-0a40-4143-f7dc-a19ee17816bf"
      },
      "source": [
        "k = 3\n",
        "\n",
        "# Selecionar os dados dos k vizinhos mais próximos\n",
        "vizinhos = treino.loc[ indices[:k] ]\n",
        "vizinhos"
      ],
      "execution_count": null,
      "outputs": [
        {
          "output_type": "execute_result",
          "data": {
            "text/html": [
              "<div>\n",
              "<style scoped>\n",
              "    .dataframe tbody tr th:only-of-type {\n",
              "        vertical-align: middle;\n",
              "    }\n",
              "\n",
              "    .dataframe tbody tr th {\n",
              "        vertical-align: top;\n",
              "    }\n",
              "\n",
              "    .dataframe thead th {\n",
              "        text-align: right;\n",
              "    }\n",
              "</style>\n",
              "<table border=\"1\" class=\"dataframe\">\n",
              "  <thead>\n",
              "    <tr style=\"text-align: right;\">\n",
              "      <th></th>\n",
              "      <th>Classe</th>\n",
              "      <th>Sexo</th>\n",
              "      <th>FaixaEtaria</th>\n",
              "      <th>Sobreviveu</th>\n",
              "    </tr>\n",
              "  </thead>\n",
              "  <tbody>\n",
              "    <tr>\n",
              "      <th>602</th>\n",
              "      <td>3.0</td>\n",
              "      <td>M</td>\n",
              "      <td>Adulto</td>\n",
              "      <td>0</td>\n",
              "    </tr>\n",
              "    <tr>\n",
              "      <th>607</th>\n",
              "      <td>3.0</td>\n",
              "      <td>M</td>\n",
              "      <td>Adulto</td>\n",
              "      <td>1</td>\n",
              "    </tr>\n",
              "    <tr>\n",
              "      <th>609</th>\n",
              "      <td>3.0</td>\n",
              "      <td>M</td>\n",
              "      <td>Adulto</td>\n",
              "      <td>1</td>\n",
              "    </tr>\n",
              "  </tbody>\n",
              "</table>\n",
              "</div>"
            ],
            "text/plain": [
              "     Classe Sexo FaixaEtaria  Sobreviveu\n",
              "602     3.0    M      Adulto           0\n",
              "607     3.0    M      Adulto           1\n",
              "609     3.0    M      Adulto           1"
            ]
          },
          "metadata": {
            "tags": []
          },
          "execution_count": 132
        }
      ]
    },
    {
      "cell_type": "code",
      "metadata": {
        "colab": {
          "base_uri": "https://localhost:8080/"
        },
        "id": "dcGfhEsvEgoA",
        "outputId": "afbab03a-fb5f-4ac7-9b46-35bbdb65f270"
      },
      "source": [
        "y = mais_frequente(vizinhos['Sobreviveu'].values)\n",
        "y"
      ],
      "execution_count": null,
      "outputs": [
        {
          "output_type": "execute_result",
          "data": {
            "text/plain": [
              "1"
            ]
          },
          "metadata": {
            "tags": []
          },
          "execution_count": 133
        }
      ]
    },
    {
      "cell_type": "markdown",
      "metadata": {
        "id": "Baq-zaHrRvKL"
      },
      "source": [
        "### Código Completo"
      ]
    },
    {
      "cell_type": "code",
      "metadata": {
        "id": "_jf-dq6MzcEN"
      },
      "source": [
        "def knn(dados, k, x, y, funcao_distancia, funcao_mesclagem):\n",
        "  # Calcular as distâncias\n",
        "  distancias = {indice : funcao_distancia(x, dados.loc[indice]) for indice in dados.index }\n",
        "\n",
        "  # Ordenar as distâncias\n",
        "  indices = sorted(distancias, key=distancias.get) \n",
        "\n",
        "  # Selecionar os dados dos k vizinhos mais próximos\n",
        "  vizinhos = dados.loc[ indices[:k] ]\n",
        "\n",
        "  y_estimado = funcao_mesclagem(vizinhos[y].values)\n",
        "\n",
        "  return y_estimado"
      ],
      "execution_count": null,
      "outputs": []
    },
    {
      "cell_type": "code",
      "metadata": {
        "colab": {
          "base_uri": "https://localhost:8080/"
        },
        "id": "BJW4qwvD0xGQ",
        "outputId": "84c91717-b83c-4622-d57b-0cb5622cc0a4"
      },
      "source": [
        "knn(treino, 10, {'Sexo':'F', 'FaixaEtaria': 'Adulto', 'Classe': 1.0}, 'Sobreviveu', \n",
        "    distancia_hamming, mais_frequente)"
      ],
      "execution_count": null,
      "outputs": [
        {
          "output_type": "execute_result",
          "data": {
            "text/plain": [
              "1"
            ]
          },
          "metadata": {
            "tags": []
          },
          "execution_count": 138
        }
      ]
    },
    {
      "cell_type": "markdown",
      "metadata": {
        "id": "BqrB3kUS9kQq"
      },
      "source": [
        "### Teste do Modelo"
      ]
    },
    {
      "cell_type": "code",
      "metadata": {
        "colab": {
          "base_uri": "https://localhost:8080/"
        },
        "id": "qnV6AZ-f0yyP",
        "outputId": "8a871c68-d976-4a5d-e299-047c008cbae9"
      },
      "source": [
        "x = ['Sexo','Classe','FaixaEtaria']\n",
        "y = 'Sobreviveu'\n",
        "\n",
        "esperados = []  # valores existentes no conjunto de teste\n",
        "\n",
        "estimados = []  # gerado pelo knn\n",
        "\n",
        "for indice in teste.index:\n",
        "\n",
        "  instancia = teste.loc[indice]\n",
        "\n",
        "  y_real = instancia[y]\n",
        "\n",
        "  esperados.append(y_real)\n",
        "\n",
        "  consulta = {chave : instancia[chave] for chave in x}\n",
        "\n",
        "  y_estimado = knn(treino, 2, consulta, y, distancia_hamming, mais_frequente)\n",
        "\n",
        "  estimados.append(y_estimado)\n",
        "\n",
        "acuracia(esperados, estimados)\n"
      ],
      "execution_count": null,
      "outputs": [
        {
          "output_type": "execute_result",
          "data": {
            "text/plain": [
              "0.72264631043257"
            ]
          },
          "metadata": {
            "tags": []
          },
          "execution_count": 141
        }
      ]
    },
    {
      "cell_type": "markdown",
      "metadata": {
        "id": "JRCByEI6TQhS"
      },
      "source": [
        "## Naïve Bayes\n",
        "\n",
        "Regra de Bayes\n",
        "$$\n",
        "P(y|x) = \\frac{P(x|y)\\cdot P(y)}{P(x)}\n",
        "$$\n",
        "\n",
        "Onde:\n",
        "* $x$ são os valores dos atributos descritivos (ou a evidência)\n",
        "* $y$ é o valor do atributo alvo (ou a hipótese)\n",
        "* $P(y|x)$ é a probabilidade à posteriori\n",
        "* $P(x|y)$ é a verossimilhança\n",
        "* $P(y)$ é a probabilidade à priori\n",
        "* $P(x)$ é a probabilidade da evidência"
      ]
    },
    {
      "cell_type": "markdown",
      "metadata": {
        "id": "9r9KidQtWT4U"
      },
      "source": [
        "### Probabilidade da Evidência - P(x)"
      ]
    },
    {
      "cell_type": "code",
      "metadata": {
        "colab": {
          "base_uri": "https://localhost:8080/"
        },
        "id": "qAuVbxbNTSiV",
        "outputId": "203cfca1-3283-469a-daa5-92fa7bfc36a5"
      },
      "source": [
        "# Tamanho total do conjunto de dados\n",
        "n = len(treino.index)\n",
        "\n",
        "# Atributos descritivos\n",
        "x = \"Sexo == 'M' & Classe == 3\"\n",
        "\n",
        "# Filtra o conjunto de dados a partir dos atributos descritivos\n",
        "x_dados = treino.query(x)\n",
        "\n",
        "# Tamanho total do filtro\n",
        "xn = len(x_dados.index)\n",
        "\n",
        "# Probabilidade empírica P(x)\n",
        "px = xn/n\n",
        "\n",
        "px"
      ],
      "execution_count": null,
      "outputs": [
        {
          "output_type": "execute_result",
          "data": {
            "text/plain": [
              "0.24156692056583243"
            ]
          },
          "metadata": {
            "tags": []
          },
          "execution_count": 142
        }
      ]
    },
    {
      "cell_type": "markdown",
      "metadata": {
        "id": "xsKa_iNRWYxI"
      },
      "source": [
        "### Probabilidade a Priori - P(y)"
      ]
    },
    {
      "cell_type": "code",
      "metadata": {
        "colab": {
          "base_uri": "https://localhost:8080/"
        },
        "id": "SJRnEBkqXIJ9",
        "outputId": "6d0ce84c-6575-4cdd-cb31-e4fdfa4ac928"
      },
      "source": [
        "# Número de classes do atributo alvo\n",
        "classes = treino['Sobreviveu'].unique()\n",
        "classes"
      ],
      "execution_count": null,
      "outputs": [
        {
          "output_type": "execute_result",
          "data": {
            "text/plain": [
              "array([1, 0])"
            ]
          },
          "metadata": {
            "tags": []
          },
          "execution_count": 144
        }
      ]
    },
    {
      "cell_type": "code",
      "metadata": {
        "colab": {
          "base_uri": "https://localhost:8080/"
        },
        "id": "LYHmIeqnVEP6",
        "outputId": "bb04d677-a291-4101-8a15-9310580de7e6"
      },
      "source": [
        "#Dicionário que conterá as probabilidades P(y) para cada classe de y\n",
        "py = {}\n",
        "\n",
        "for classe in classes:\n",
        "\n",
        "  # Filtra o conjunto de dados a partir dos atributos alvo\n",
        "  y_dados = treino.query(\"Sobreviveu == {}\".format(classe))\n",
        "\n",
        "  # Tamanho do filtro\n",
        "  yn = len(y_dados.index)\n",
        "\n",
        "  # Probabilidade à priori da classe y - P(y) \n",
        "  py[classe] = yn/n\n",
        "\n",
        "py"
      ],
      "execution_count": null,
      "outputs": [
        {
          "output_type": "execute_result",
          "data": {
            "text/plain": [
              "{0: 0.5778019586507073, 1: 0.42219804134929273}"
            ]
          },
          "metadata": {
            "tags": []
          },
          "execution_count": 145
        }
      ]
    },
    {
      "cell_type": "markdown",
      "metadata": {
        "id": "-IoC_Ck4XBLQ"
      },
      "source": [
        "### Verossimilhança - P(x|y) = P(x,y) / P(y)"
      ]
    },
    {
      "cell_type": "code",
      "metadata": {
        "colab": {
          "base_uri": "https://localhost:8080/"
        },
        "id": "O_uUcJeXXHw6",
        "outputId": "3ccbb9b7-ea6a-41a1-ba51-5194fc18158c"
      },
      "source": [
        "#Dicionário que conterá as probabilidades P(x|y) para cada classe de y\n",
        "pxy = {}\n",
        "\n",
        "for classe in classes:\n",
        "\n",
        "  # Filtra o conjunto de dados a partir dos atributos descritivos e do atributo alvo\n",
        "  xy_dados = treino.query(x + \" & Sobreviveu == {}\".format(classe))\n",
        "\n",
        "  #\n",
        "  xyn = len(xy_dados.index)\n",
        "  \n",
        "  #Verossimilhando dos atributos descritivos em relação ao atributo alvo\n",
        "  pxy[classe] = (xyn/n)/py[classe]\n",
        "\n",
        "pxy"
      ],
      "execution_count": null,
      "outputs": [
        {
          "output_type": "execute_result",
          "data": {
            "text/plain": [
              "{0: 0.3615819209039548, 1: 0.07731958762886598}"
            ]
          },
          "metadata": {
            "tags": []
          },
          "execution_count": 151
        }
      ]
    },
    {
      "cell_type": "markdown",
      "metadata": {
        "id": "uK2QtFLbXsdp"
      },
      "source": [
        "### Probabilidade a Posteriori - P(y|x) = P(x|y)*P(y) / P(x)"
      ]
    },
    {
      "cell_type": "code",
      "metadata": {
        "colab": {
          "base_uri": "https://localhost:8080/"
        },
        "id": "4X6xgNXXTd7t",
        "outputId": "dd639446-2591-404a-c6e3-e57b2d2fb80a"
      },
      "source": [
        "#Dicionário que conterá as probabilidades P(x|y) para cada classe de y\n",
        "pyx = {}\n",
        "\n",
        "\n",
        "for classe in classes:\n",
        "\n",
        "  # Regra de Bayes: P(y|x) = P(x|y)*P(y) / P(x)\n",
        "  pyx[classe] = (pxy[classe] * py[classe]) / px\n",
        "  \n",
        "pyx"
      ],
      "execution_count": null,
      "outputs": [
        {
          "output_type": "execute_result",
          "data": {
            "text/plain": [
              "{0: 0.8648648648648649, 1: 0.13513513513513514}"
            ]
          },
          "metadata": {
            "tags": []
          },
          "execution_count": 152
        }
      ]
    },
    {
      "cell_type": "markdown",
      "metadata": {
        "id": "vJIlWghyCZks"
      },
      "source": [
        "### Máximo à posteriori - MAP\n",
        "\n",
        "A classificação é decidida pela classe y_i que maximizar a probabilidade à posteriori $P(y_i|x)$\n",
        "\n",
        "$$\n",
        "y_{MAP} = \\arg\\max_{y_i} P(y_i|x)\n",
        "$$"
      ]
    },
    {
      "cell_type": "code",
      "metadata": {
        "colab": {
          "base_uri": "https://localhost:8080/"
        },
        "id": "ICzgNv0ZTfpZ",
        "outputId": "6b91441a-2d8c-4f61-c764-719ea955b255"
      },
      "source": [
        "max(pyx, key=pyx.get)"
      ],
      "execution_count": null,
      "outputs": [
        {
          "output_type": "execute_result",
          "data": {
            "text/plain": [
              "0"
            ]
          },
          "metadata": {
            "tags": []
          },
          "execution_count": 153
        }
      ]
    },
    {
      "cell_type": "markdown",
      "metadata": {
        "id": "FiFELMqJ9WKg"
      },
      "source": [
        "### Código Completo"
      ]
    },
    {
      "cell_type": "code",
      "metadata": {
        "id": "SE8UdxuC9YcN"
      },
      "source": [
        "def naive_bayes(dados, x, y):\n",
        "  n = dados.size\n",
        "  \n",
        "  #Probabilidade da evidência - P(x)\n",
        "  x_dados = dados.query(x)\n",
        "  xn = x_dados.size\n",
        "  px = xn/n  \n",
        "\n",
        "  #Probabilidade À Priori - P(y) [por classe]\n",
        "  classes = dados[y].unique()\n",
        "  py = {}\n",
        "  for classe in classes:\n",
        "    y_dados = dados.query(\"{} == {}\".format(y, classe))\n",
        "    yn = y_dados.size\n",
        "    py[classe] = yn/n\n",
        "\n",
        "  #Verossimilhança - P(x|y) [por classe]\n",
        "  pxy = {}\n",
        "  for classe in classes:\n",
        "    xy_dados = df.query(x + \" & {} == {}\".format(y, classe))\n",
        "    xyn = xy_dados.size\n",
        "    pxy[classe] = (xyn/n)/py[classe]\n",
        "\n",
        "  #Probabilidade À Posteriori - P(y|x) [por classe]\n",
        "  pyx = {}\n",
        "  for classe in classes:\n",
        "    pyx[classe] = (pxy[classe] * py[classe]) / px\n",
        "\n",
        "  return max(pyx, key=pyx.get)\n"
      ],
      "execution_count": null,
      "outputs": []
    },
    {
      "cell_type": "code",
      "metadata": {
        "colab": {
          "base_uri": "https://localhost:8080/"
        },
        "id": "cy0TeVgP-lF_",
        "outputId": "dc58e662-da9f-4d6a-8708-d601d9e7b028"
      },
      "source": [
        "naive_bayes(treino, \"Sexo == 'F' & Classe == 1\",\"Sobreviveu\")"
      ],
      "execution_count": null,
      "outputs": [
        {
          "output_type": "execute_result",
          "data": {
            "text/plain": [
              "1"
            ]
          },
          "metadata": {
            "tags": []
          },
          "execution_count": 157
        }
      ]
    },
    {
      "cell_type": "code",
      "metadata": {
        "colab": {
          "base_uri": "https://localhost:8080/"
        },
        "id": "5k_3M07B-uMj",
        "outputId": "fc263ec3-5d80-43d2-dbf5-1e18b2cda152"
      },
      "source": [
        "naive_bayes(df, \"FaixaEtaria == 'Adulto' & Classe == 1\",\"Sobreviveu\")"
      ],
      "execution_count": null,
      "outputs": [
        {
          "output_type": "execute_result",
          "data": {
            "text/plain": [
              "1"
            ]
          },
          "metadata": {
            "tags": []
          },
          "execution_count": 159
        }
      ]
    },
    {
      "cell_type": "markdown",
      "metadata": {
        "id": "n3Jht8Kb9erN"
      },
      "source": [
        "### Teste do Modelo"
      ]
    },
    {
      "cell_type": "code",
      "metadata": {
        "colab": {
          "base_uri": "https://localhost:8080/"
        },
        "id": "y5ndc3ko_JV0",
        "outputId": "67bf0994-827c-403d-eae5-346ba549ea97"
      },
      "source": [
        "x = ['Sexo','Classe','FaixaEtaria']\n",
        "y = 'Sobreviveu'\n",
        "esperados = []\n",
        "estimados = []\n",
        "\n",
        "for indice in teste.index:\n",
        "  instancia = teste.loc[indice]\n",
        "\n",
        "  esperados.append(instancia[y])\n",
        "\n",
        "  tmp = ['{} == \\'{}\\''.format(chave, instancia[chave]) for chave in x]\n",
        "  consulta = ' & '.join(tmp)\n",
        "\n",
        "  y_est = naive_bayes(treino, consulta, y)\n",
        "\n",
        "  estimados.append(y_est)\n",
        "\n",
        "acuracia(esperados, estimados)\n"
      ],
      "execution_count": null,
      "outputs": [
        {
          "output_type": "execute_result",
          "data": {
            "text/plain": [
              "0.8422391857506362"
            ]
          },
          "metadata": {
            "tags": []
          },
          "execution_count": 163
        }
      ]
    },
    {
      "cell_type": "code",
      "metadata": {
        "id": "rs9KSZnP6Q7t"
      },
      "source": [
        ""
      ],
      "execution_count": null,
      "outputs": []
    }
  ]
}